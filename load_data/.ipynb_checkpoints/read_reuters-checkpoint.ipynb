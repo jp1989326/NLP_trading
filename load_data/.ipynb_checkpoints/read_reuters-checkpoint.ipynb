{
 "cells": [
  {
   "cell_type": "code",
   "execution_count": 12,
   "metadata": {
    "collapsed": true
   },
   "outputs": [],
   "source": [
    "from __future__ import print_function\n",
    "\n",
    "import os\n",
    "import pickle\n",
    "import sys\n",
    "import sys\n",
    "sys.path.append('../Test_stocktalk')\n",
    "\n",
    "PYTHON_3 = sys.version_info >= (3, 0)"
   ]
  },
  {
   "cell_type": "code",
   "execution_count": 2,
   "metadata": {
    "collapsed": false
   },
   "outputs": [],
   "source": [
    "data_path='/home/peng/Documents/NLP/dataset/reuters_data/'\n",
    "list_dir = os.listdir(data_path)\n",
    "list_dir.sort()"
   ]
  },
  {
   "cell_type": "code",
   "execution_count": 3,
   "metadata": {
    "collapsed": false
   },
   "outputs": [],
   "source": [
    "def read_single(file_date):\n",
    "    time_string = []\n",
    "    title_string = []\n",
    "    hyper_string = []\n",
    "    if file_date in list_dir:\n",
    "        with open(data_path + file_date, 'rb') as f:\n",
    "            data = pickle.load(f, encoding = 'latin1')\n",
    "            for datum in data:\n",
    "                time_string.append(datum['ts'])\n",
    "                title_string.append(datum['title'].lower())\n",
    "                hyper_string.append(datum['href'])\n",
    "    else:\n",
    "        print ('There is no available news file on %r.' %(file_date[0:-4]))\n",
    "    return title_string"
   ]
  },
  {
   "cell_type": "code",
   "execution_count": 4,
   "metadata": {
    "collapsed": false
   },
   "outputs": [],
   "source": [
    "def locate_key(key_words,file_date):\n",
    "    key_string = []\n",
    "    file_date = str(file_date) + '.pkl'\n",
    "    title_string = read_single(file_date)\n",
    "    for title in title_string:\n",
    "        if key_words in title:\n",
    "            key_string.append(title)\n",
    "    return key_string        \n",
    "            \n",
    "\n"
   ]
  },
  {
   "cell_type": "code",
   "execution_count": 32,
   "metadata": {
    "collapsed": false
   },
   "outputs": [],
   "source": [
    "key_string = locate_key('iraq', 20150101)"
   ]
  },
  {
   "cell_type": "code",
   "execution_count": 33,
   "metadata": {
    "collapsed": false
   },
   "outputs": [
    {
     "data": {
      "text/plain": [
       "['bosnian indicted over recruiting militants for syria and iraq',\n",
       " 'u.s.-led forces launch 10 air strikes in syria, iraq',\n",
       " \"shi'ite militias expand influence, redraw map in central iraq\",\n",
       " 'u.s. targets islamic state warehouses near fallujah, iraq']"
      ]
     },
     "execution_count": 33,
     "metadata": {},
     "output_type": "execute_result"
    }
   ],
   "source": [
    "key_string"
   ]
  },
  {
   "cell_type": "code",
   "execution_count": 34,
   "metadata": {
    "collapsed": false
   },
   "outputs": [],
   "source": [
    "import TwitterAxe as Twa"
   ]
  },
  {
   "cell_type": "code",
   "execution_count": 35,
   "metadata": {
    "collapsed": true
   },
   "outputs": [],
   "source": [
    "score = Twa.sentimentScore(key_string)"
   ]
  },
  {
   "cell_type": "code",
   "execution_count": 36,
   "metadata": {
    "collapsed": false
   },
   "outputs": [
    {
     "data": {
      "text/plain": [
       "-0.022"
      ]
     },
     "execution_count": 36,
     "metadata": {},
     "output_type": "execute_result"
    }
   ],
   "source": [
    "score"
   ]
  }
 ],
 "metadata": {
  "kernelspec": {
   "display_name": "Python 3",
   "language": "python",
   "name": "python3"
  },
  "language_info": {
   "codemirror_mode": {
    "name": "ipython",
    "version": 3
   },
   "file_extension": ".py",
   "mimetype": "text/x-python",
   "name": "python",
   "nbconvert_exporter": "python",
   "pygments_lexer": "ipython3",
   "version": "3.6.0"
  }
 },
 "nbformat": 4,
 "nbformat_minor": 2
}
