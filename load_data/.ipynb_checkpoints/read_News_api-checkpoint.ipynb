{
 "cells": [
  {
   "cell_type": "code",
   "execution_count": 1,
   "metadata": {
    "collapsed": false
   },
   "outputs": [],
   "source": [
    "import requests\n",
    "import pandas as pd\n",
    "import numpy as np\n",
    "from threading import Timer\n",
    "import schedule\n",
    "from time import time, gmtime, localtime, strftime, sleep"
   ]
  },
  {
   "cell_type": "code",
   "execution_count": 10,
   "metadata": {
    "collapsed": false
   },
   "outputs": [
    {
     "data": {
      "text/plain": [
       "'17'"
      ]
     },
     "execution_count": 10,
     "metadata": {},
     "output_type": "execute_result"
    }
   ],
   "source": [
    "time_now = strftime(\"%Y-%m-%d-%H-%M-%S\", localtime())\n",
    "time_now[-8:-6]"
   ]
  },
  {
   "cell_type": "code",
   "execution_count": 2,
   "metadata": {
    "collapsed": true
   },
   "outputs": [],
   "source": [
    "class RepeatedTimer(object):\n",
    "    def __init__(self, interval, function, *args, **kwargs):\n",
    "        self._timer     = None\n",
    "        self.function   = function\n",
    "        self.interval   = interval\n",
    "        self.is_running = False\n",
    "        self.args       = args\n",
    "        self.kwargs     = kwargs\n",
    "        self.start()\n",
    "\n",
    "    def _run(self):\n",
    "        self.is_running = False\n",
    "        self.start()\n",
    "        self.function(*self.args, **self.kwargs)\n",
    "\n",
    "    def start(self):\n",
    "        if not self.is_running:\n",
    "            self._timer = Timer(self.interval, self._run)\n",
    "            self._timer.start()\n",
    "            self.is_running = True\n",
    "\n",
    "    def stop(self):\n",
    "        self._timer.cancel()\n",
    "        self.is_running = False"
   ]
  },
  {
   "cell_type": "code",
   "execution_count": 4,
   "metadata": {
    "collapsed": true
   },
   "outputs": [],
   "source": [
    "class request_news:\n",
    "    \n",
    "    def __init__(self, df_filter): \n",
    "        self.title_string = []\n",
    "        self.detail_string = []\n",
    "        self.time_string = []\n",
    "        self.url_string =[]\n",
    "        self.source_string =[] \n",
    "        self.df_filter = df_filter\n",
    "        self.source_relate =  np.array(self.df_filter['source_id'])\n",
    "        self.data_path = data_path = '/home/peng/Documents/NLP/dataset/NewsAPI/'\n",
    "        \n",
    "    def refresh_string(self):  \n",
    "        self.title_string = []\n",
    "        self.detail_string = []\n",
    "        self.time_string = []\n",
    "        self.url_string =[]\n",
    "        self.source_string =[] \n",
    "        \n",
    "    def query(self, source, sortby='top'):       \n",
    "        url = 'https://newsapi.org/v1/articles?'\n",
    "        apikey='apiKey=6edc312567cd47e7a670525767fe5e08'\n",
    "        source_url = 'source='+source+'&'\n",
    "        sortby_url = 'sortBy='+str(sortby)+'&'\n",
    "        query = url + source_url + sortby_url + apikey\n",
    "        r = requests.get((query),verify=True)\n",
    "        return r.json()          \n",
    "        \n",
    "    def save_news(self):\n",
    "        \n",
    "        df_saved_news = pd.DataFrame({'source_id':self.source_string,'title':self.title_string,\\\n",
    "                                     'detail':self.detail_string, 'time':self.time_string, 'url': self.url_string})\n",
    "                        \n",
    "        time_now = strftime(\"%Y-%m-%d-%H-%M-%S\", localtime())\n",
    "        df_saved_news.to_csv(self.data_path + time_now[:-6]+'.csv', header = True)\n",
    "        print ('file saved')          \n",
    "        \n",
    "    def request_all(self,rolling = True):    \n",
    "        for source in self.source_relate:\n",
    "            sort_methods = np.array(self.df_filter[self.df_filter['source_id']==source]['sort'])[0]\n",
    "            if 'latest' in sort_methods:\n",
    "                sort_ = 'latest'\n",
    "            else:\n",
    "                sort_ = 'top'\n",
    "            news = self.query(source, sort_)\n",
    "            for single_news in news['articles']:                            \n",
    "                self.source_string.append(source)\n",
    "                self.title_string.append(single_news['title'])\n",
    "                self.detail_string.append(single_news['description'])\n",
    "                self.time_string.append(single_news['publishedAt'])\n",
    "                self.url_string.append(single_news['url'])\n",
    "                \n",
    "                if rolling == True:\n",
    "                    end_day = strftime(\"%Y-%m-%d-%H-%M-%S\", localtime())\n",
    "                    if (len(self.title_string)%400 == 0):\n",
    "                        self.save_news()\n",
    "                    if  end_day[-8:-6]== '23':\n",
    "                        sleep(60*60*1)\n",
    "                        self.refresh_string() "
   ]
  },
  {
   "cell_type": "code",
   "execution_count": 5,
   "metadata": {
    "collapsed": false
   },
   "outputs": [],
   "source": [
    "def run():\n",
    "    \n",
    "    data_path = '/home/peng/Documents/NLP/dataset/NewsAPI/'\n",
    "    \n",
    "\n",
    "        \n",
    "    def source_list():   \n",
    "        new = requests.get('https://newsapi.org/v1/sources?language=en')\n",
    "        category = []\n",
    "        source_id =[]\n",
    "        sort_ = []\n",
    "        relate_list= []\n",
    "        for i in new.json()['sources']:\n",
    "            category.append(i['category'])\n",
    "            if i['category'] in ['general', 'business', 'technology','science-and-nature']:\n",
    "                relate_list.append(1)\n",
    "            else:\n",
    "                relate_list.append(0)\n",
    "            source_id.append(i['id'])\n",
    "            sort_.append(i['sortBysAvailable'])        \n",
    "        df_source = pd.DataFrame({'cat':category, 'source_id':source_id, 'relate':relate_list, 'sort':sort_})  \n",
    "        df_filter = df_source[df_source['relate']==1]\n",
    "        source_relate = np.array(df_filter['source_id'])\n",
    "        \n",
    "        return  df_filter  \n",
    "    \n",
    "    \n",
    "    time_interval = 60*60\n",
    "    mining_period = 60*60*36\n",
    "    \n",
    "    \n",
    "    df_filter = source_list()\n",
    "    \n",
    "    axe = request_news(df_filter)\n",
    "    \n",
    "    \n",
    "    \n",
    "    \n",
    "    print (\"starting...\")\n",
    "    rt = RepeatedTimer(time_interval, axe.request_all, rolling=True) # it auto-starts, no need of rt.start()\n",
    "    try:\n",
    "        sleep(mining_period) # your long-running job goes here...\n",
    "    finally:\n",
    "        rt.stop() # better in a try/finally block to make sure the program ends!\n",
    "        \n",
    "    axe.save_news()\n",
    "    print ('finished...')"
   ]
  },
  {
   "cell_type": "code",
   "execution_count": 6,
   "metadata": {
    "collapsed": false
   },
   "outputs": [
    {
     "name": "stdout",
     "output_type": "stream",
     "text": [
      "starting...\n",
      "file saved\n",
      "file saved\n",
      "file saved\n",
      "file saved\n",
      "file saved\n",
      "file saved\n",
      "file saved\n",
      "file saved\n",
      "file saved\n",
      "file saved\n",
      "file saved\n",
      "file saved\n",
      "file saved\n",
      "finished...\n",
      "file saved\n",
      "file saved\n"
     ]
    }
   ],
   "source": [
    "if __name__ == '__main__': run()"
   ]
  },
  {
   "cell_type": "code",
   "execution_count": null,
   "metadata": {
    "collapsed": true
   },
   "outputs": [],
   "source": []
  }
 ],
 "metadata": {
  "kernelspec": {
   "display_name": "Python 3",
   "language": "python",
   "name": "python3"
  },
  "language_info": {
   "codemirror_mode": {
    "name": "ipython",
    "version": 3
   },
   "file_extension": ".py",
   "mimetype": "text/x-python",
   "name": "python",
   "nbconvert_exporter": "python",
   "pygments_lexer": "ipython3",
   "version": "3.6.0"
  }
 },
 "nbformat": 4,
 "nbformat_minor": 2
}
