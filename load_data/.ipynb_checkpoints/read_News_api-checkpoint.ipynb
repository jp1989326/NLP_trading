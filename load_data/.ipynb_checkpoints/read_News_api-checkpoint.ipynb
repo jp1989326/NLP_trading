{
 "cells": [
  {
   "cell_type": "code",
   "execution_count": 3,
   "metadata": {
    "collapsed": false
   },
   "outputs": [],
   "source": [
    "import requests\n",
    "import pandas as pd\n",
    "import numpy as np\n",
    "from threading import Timer\n",
    "import schedule\n",
    "from time import time, gmtime, localtime, strftime, sleep"
   ]
  },
  {
   "cell_type": "code",
   "execution_count": 4,
   "metadata": {
    "collapsed": true
   },
   "outputs": [],
   "source": [
    "class RepeatedTimer(object):\n",
    "    def __init__(self, interval, function, *args, **kwargs):\n",
    "        self._timer     = None\n",
    "        self.function   = function\n",
    "        self.interval   = interval\n",
    "        self.is_running = False\n",
    "        self.args       = args\n",
    "        self.kwargs     = kwargs\n",
    "        self.start()\n",
    "\n",
    "    def _run(self):\n",
    "        self.is_running = False\n",
    "        self.start()\n",
    "        self.function(*self.args, **self.kwargs)\n",
    "\n",
    "    def start(self):\n",
    "        if not self.is_running:\n",
    "            self._timer = Timer(self.interval, self._run)\n",
    "            self._timer.start()\n",
    "            self.is_running = True\n",
    "\n",
    "    def stop(self):\n",
    "        self._timer.cancel()\n",
    "        self.is_running = False"
   ]
  },
  {
   "cell_type": "code",
   "execution_count": 5,
   "metadata": {
    "collapsed": false
   },
   "outputs": [],
   "source": [
    "# query the top headlines for one souce website \n",
    "def query(source, sortby='top'):\n",
    "    url = 'https://newsapi.org/v1/articles?'\n",
    "    apikey='apiKey=6edc312567cd47e7a670525767fe5e08'\n",
    "    source_url = 'source='+source+'&'\n",
    "    sortby_url = 'sortBy='+str(sortby)+'&'\n",
    "    query = url + source_url + sortby_url + apikey\n",
    "    r = requests.get((query),verify=True)\n",
    "    return r.json()  "
   ]
  },
  {
   "cell_type": "code",
   "execution_count": 6,
   "metadata": {
    "collapsed": true
   },
   "outputs": [],
   "source": [
    "# get a dataframe for the available english source websites' id and category\n",
    "\n",
    "def source_list():\n",
    "    \n",
    "    new = requests.get('https://newsapi.org/v1/sources?language=en')\n",
    "    category = []\n",
    "    source_id =[]\n",
    "    sort_ = []\n",
    "    relate_list= []\n",
    "    for i in new.json()['sources']:\n",
    "        category.append(i['category'])\n",
    "        if i['category'] in ['general', 'business', 'technology','science-and-nature']:\n",
    "            relate_list.append(1)\n",
    "        else:\n",
    "            relate_list.append(0)\n",
    "        source_id.append(i['id'])\n",
    "        sort_.append(i['sortBysAvailable'])        \n",
    "    df_source = pd.DataFrame({'cat':category, 'source_id':source_id, 'relate':relate_list, 'sort':sort_})  \n",
    "    \n",
    "    return df_source"
   ]
  },
  {
   "cell_type": "code",
   "execution_count": 7,
   "metadata": {
    "collapsed": false
   },
   "outputs": [],
   "source": [
    "# request from all websites, roughly can get 405 headlines one time\n",
    "def request_all(rolling = True):    \n",
    "    for source in source_relate:\n",
    "        sort_methods = np.array(df_filter[df_filter['source_id']==source]['sort'])[0]\n",
    "        if 'latest' in sort_methods:\n",
    "            sort_ = 'latest'\n",
    "        else:\n",
    "            sort_ = 'top'\n",
    "        news = query(source, sort_)\n",
    "        for single_news in news['articles']:                            \n",
    "            source_string.append(source)\n",
    "            title_string.append(single_news['title'])\n",
    "            detail_string.append(single_news['description'])\n",
    "            time_string.append(single_news['publishedAt'])\n",
    "            url_string.append(single_news['url'])\n",
    "            \n",
    "            if rolling == True:\n",
    "                if len(title_string)%400 == 0:\n",
    "                    df_saved_news = pd.DataFrame({'source_id':source_string,'title':title_string,\\\n",
    "                                                 'detail':detail_string, 'time':time_string, 'url': url_string})\n",
    "                    df_saved_news.to_csv('saved_news.csv', header = True)\n",
    "                    print ('file saved')                    "
   ]
  },
  {
   "cell_type": "code",
   "execution_count": 8,
   "metadata": {
    "collapsed": false
   },
   "outputs": [],
   "source": [
    "# generate the filtered source list only related to general and business\n",
    "df_source = source_list()\n",
    "df_filter = df_source[df_source['relate']==1]\n",
    "source_relate = np.array(df_filter['source_id'])\n",
    "\n",
    "title_string = []\n",
    "detail_string = []\n",
    "time_string = []\n",
    "url_string =[]\n",
    "source_string =[]\n",
    "count = []"
   ]
  },
  {
   "cell_type": "code",
   "execution_count": 9,
   "metadata": {
    "collapsed": false
   },
   "outputs": [
    {
     "name": "stdout",
     "output_type": "stream",
     "text": [
      "starting...\n"
     ]
    }
   ],
   "source": [
    "time_interval = 10\n",
    "mining_period = 60*1\n",
    "\n",
    "print (\"starting...\")\n",
    "rt = RepeatedTimer(time_interval, request_all, rolling=True) # it auto-starts, no need of rt.start()\n",
    "try:\n",
    "    sleep(mining_period) # your long-running job goes here...\n",
    "finally:\n",
    "    rt.stop() # better in a try/finally block to make sure the program ends!"
   ]
  },
  {
   "cell_type": "code",
   "execution_count": null,
   "metadata": {
    "collapsed": true
   },
   "outputs": [],
   "source": []
  }
 ],
 "metadata": {
  "kernelspec": {
   "display_name": "Python 3",
   "language": "python",
   "name": "python3"
  },
  "language_info": {
   "codemirror_mode": {
    "name": "ipython",
    "version": 3
   },
   "file_extension": ".py",
   "mimetype": "text/x-python",
   "name": "python",
   "nbconvert_exporter": "python",
   "pygments_lexer": "ipython3",
   "version": "3.6.0"
  }
 },
 "nbformat": 4,
 "nbformat_minor": 2
}
