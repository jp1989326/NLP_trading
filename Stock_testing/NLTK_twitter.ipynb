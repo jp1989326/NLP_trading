{
 "cells": [
  {
   "cell_type": "code",
   "execution_count": 1,
   "metadata": {
    "collapsed": false
   },
   "outputs": [
    {
     "name": "stdout",
     "output_type": "stream",
     "text": [
      "RT @newportdaddy: i've got some flowers for you, my love. 🌸 https://t.co/H4XNAQL9tn\n",
      "I hate having to drug myself to sleep every night 😓\n",
      "RT @_Boobielicious: That \"grow together\" type of love\n",
      "RT @Cam_Davis3: @renfrowhunter Your namesake just turned 1 week old out here @ the Clemson Research Farm. We'd love to have you out… \n",
      "215. I love how you always have nice things to say about me\n",
      "\n",
      "BeyondBeautiful Nadine\n",
      "#KCAPinoyStar #NadineLustre\n",
      "Suits &amp; Tees. Love it, boys. From out latest #streetstyle gallery https://t.co/G8Ven0IqNR #Melbourne #mensstyle https://t.co/vOafkOGEC3\n",
      "I don't see how people hate water... it really is concerning 😐\n",
      "RT @dinahditch: You can dislike a queen but talking about how you dislike them all the time is annoying as hell let us love our faves\n",
      "@justinbieber happy birthday my babe i really love you so so much\n",
      "Wizkid – Sweet Love - https://t.co/RrFcwLaWgS\n",
      "Written 10 Tweets\n"
     ]
    }
   ],
   "source": [
    "from nltk.twitter import Twitter\n",
    "tw = Twitter()\n",
    "tw.tweets(keywords='love, hate', limit=10) #sample from the public stream"
   ]
  },
  {
   "cell_type": "code",
   "execution_count": 5,
   "metadata": {
    "collapsed": false
   },
   "outputs": [
    {
     "name": "stdout",
     "output_type": "stream",
     "text": [
      "@CNN It was terrific to see!\n",
      "RT @CNN: Lindsey Graham to Trump: \"Do not destroy soft power because we cannot win through military force alone\" #CNNTownHall https://t.co/…\n",
      "@CNN @ABC https://t.co/dbto9REdQO\n",
      "RT @CNN: Graham: It's not losing my job I fear; \"My biggest fear is not standing up and speaking out when I know it's right.\" https://t.co/…\n",
      "@CNN Trump is Putins puppet Russians are lol at America\n",
      "RT @CNN: John McCain: North Korea is an \"immediate danger” #CNNTownHall https://t.co/mQX8qGo4lV https://t.co/XOBBVIAaen\n",
      "RT @CNN: A GOP lawmaker says immigration compromise isn't a new position for President Trump https://t.co/B96AdAwilR https://t.co/qtYFKGJDUA\n",
      "RT @CNN: Lindsey Graham: \"It's not a war against Islam, it's a war against nutjobs\" https://t.co/xjVt7Ji3cC #CNNTownHall https://t.co/eujzg…\n",
      "@CNN no @SenJohnMcCain @LindseyGrahamSC I think most Americans want U 2 stop dropping 2 your knees  4 @realDonaldTrump\n",
      "RT @CNN: Graham fights back tears at the #CNNTownHall, saying of McCain: \"He would die for this country. I love him to death\" https://t.co/…\n",
      "Written 10 Tweets\n"
     ]
    }
   ],
   "source": [
    "tw = Twitter()\n",
    "tw.tweets(follow=['759251', '612473'], limit=10) "
   ]
  },
  {
   "cell_type": "code",
   "execution_count": 3,
   "metadata": {
    "collapsed": false
   },
   "outputs": [
    {
     "name": "stdout",
     "output_type": "stream",
     "text": [
      "RT @starcrosswolf: Why did Hilary Clinton lie while being interviewed by the FBI? https://t.co/kiCN5LHy2t\n",
      "@thehill all I can think is.  What if all this same shit were happening to the Hilary Clinton admin.  How fast would the Rs be investigating\n",
      "@matti_colley That is true.  I really really do not like Hilary Clinton.  Don't like Trump either.  I wouldn't have voted for either .\n",
      "@Jen_Niffer It's Hilary Clinton's \"Stronger Together\" 738 with the logo and tail arrow removed ; )\n",
      "@TuckerCarlson @EricGuster @realDonaldTrump @FoxNews but yet lots of leftist including Hilary Clinton yell for Trump to stop his supporters.\n",
      "RT @starcrosswolf: Why did Hilary Clinton lie while being interviewed by the FBI? https://t.co/kiCN5LHy2t\n",
      "Why did Hilary Clinton lie while being interviewed by the FBI? https://t.co/kiCN5LHy2t\n",
      "RT @NasirLeigh: Mo'Nique talks about Hilary Clinton &amp; Bill Clinton 😂😂😂 https://t.co/Z23MpIXQ5Y\n",
      "@jerseyhoya if this were Hilary Clinton as POTUS, impeachment would have started 21Jan\n",
      "lesbian Hilary Clinton shipper and Steven\n",
      "Written 10 Tweets\n"
     ]
    }
   ],
   "source": [
    "tw.tweets(keywords='hilary clinton', stream=False, limit=10)"
   ]
  },
  {
   "cell_type": "code",
   "execution_count": 4,
   "metadata": {
    "collapsed": false
   },
   "outputs": [
    {
     "name": "stdout",
     "output_type": "stream",
     "text": [
      "this is perfect\n"
     ]
    }
   ],
   "source": [
    "print (\"this is perfect\")"
   ]
  },
  {
   "cell_type": "code",
   "execution_count": null,
   "metadata": {
    "collapsed": true
   },
   "outputs": [],
   "source": []
  }
 ],
 "metadata": {
  "kernelspec": {
   "display_name": "Python 3",
   "language": "python",
   "name": "python3"
  },
  "language_info": {
   "codemirror_mode": {
    "name": "ipython",
    "version": 3
   },
   "file_extension": ".py",
   "mimetype": "text/x-python",
   "name": "python",
   "nbconvert_exporter": "python",
   "pygments_lexer": "ipython3",
   "version": "3.6.0"
  }
 },
 "nbformat": 4,
 "nbformat_minor": 2
}
