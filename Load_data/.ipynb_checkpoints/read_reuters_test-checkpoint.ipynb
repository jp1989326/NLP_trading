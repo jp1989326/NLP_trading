{
 "cells": [
  {
   "cell_type": "code",
   "execution_count": 1,
   "metadata": {
    "collapsed": false
   },
   "outputs": [],
   "source": [
    "from __future__ import print_function\n",
    "\n",
    "import os\n",
    "import pickle\n",
    "import read_news\n",
    "import sys\n",
    "sys.path.append('../Test_stocktalk')\n",
    "import TwitterAxe as Twa\n",
    "import numpy as np"
   ]
  },
  {
   "cell_type": "code",
   "execution_count": 2,
   "metadata": {
    "collapsed": false
   },
   "outputs": [],
   "source": [
    "read = read_news.read_reuters(file_date = '20120202')\n",
    "key_string_1 = read.locate_key(['usa'])\n",
    "len(set(key_string_1))\n",
    "key_string_1[0:10]\n",
    "score = Twa.sentimentScore(key_string_1)"
   ]
  },
  {
   "cell_type": "code",
   "execution_count": 14,
   "metadata": {
    "collapsed": false
   },
   "outputs": [],
   "source": [
    "suc = read_news.read_newsapi('2017-03-21')"
   ]
  },
  {
   "cell_type": "code",
   "execution_count": 15,
   "metadata": {
    "collapsed": false
   },
   "outputs": [
    {
     "data": {
      "text/plain": [
       "['hundreds of thousands of people have fled south sudan for uganda',\n",
       " 'nsa chief denies british spying accusation - cnn video',\n",
       " 'must see video - usa today',\n",
       " '[usa][h]nintendo switch dock socks [w] $10 each via paypal (free domestic shipping) • r/gamesale',\n",
       " \"a new painkiller is being designed that won't get users high, and it could save thousands of lives\",\n",
       " 'nhs pledges to free up thousands of hospital beds by allowing home care',\n",
       " 'usa today names joanne lipman as new top editor',\n",
       " 'exclusive: usa today just appointed its first female editor-in-chief',\n",
       " '[h] 1/1 acc to exchange, awp medusa 0.17 w/ 4x vox eminor holo kato 15 [w] 300k! • r/globaloffensivetrade',\n",
       " \"bill o'reilly: trump's accusations against obama have now 'harmed the president himself'\",\n",
       " \"thousands of worlds may lurk beyond pluto — and a stunning new animation shows the ones we've found\",\n",
       " 'accusations of lies and division: french presidential candidates clash during a televised debate',\n",
       " 'bill gates and ebay founder pierre omidyar have started a new crusade to change the world']"
      ]
     },
     "execution_count": 15,
     "metadata": {},
     "output_type": "execute_result"
    }
   ],
   "source": [
    "suc.locate_key(['usa'])"
   ]
  },
  {
   "cell_type": "code",
   "execution_count": null,
   "metadata": {
    "collapsed": true
   },
   "outputs": [],
   "source": []
  }
 ],
 "metadata": {
  "kernelspec": {
   "display_name": "Python 3",
   "language": "python",
   "name": "python3"
  },
  "language_info": {
   "codemirror_mode": {
    "name": "ipython",
    "version": 3
   },
   "file_extension": ".py",
   "mimetype": "text/x-python",
   "name": "python",
   "nbconvert_exporter": "python",
   "pygments_lexer": "ipython3",
   "version": "3.6.0"
  }
 },
 "nbformat": 4,
 "nbformat_minor": 2
}
