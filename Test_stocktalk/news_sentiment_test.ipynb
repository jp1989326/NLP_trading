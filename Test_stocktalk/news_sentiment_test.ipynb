{
 "cells": [
  {
   "cell_type": "code",
   "execution_count": 1,
   "metadata": {
    "collapsed": false
   },
   "outputs": [],
   "source": [
    "from __future__ import print_function\n",
    "\n",
    "import os\n",
    "import pickle\n",
    "import sys\n",
    "sys.path.append('../Load_data')\n",
    "sys.path.append('../Sentiment')\n",
    "import read_news\n",
    "import TwitterAxe as Twa\n",
    "import numpy as np\n",
    "import pandas as pd\n",
    "from NewsAxe import multistocks_score, index_score, buy_sell_signal\n",
    "from datetime import date\n",
    "from dateutil.rrule import rrule, DAILY"
   ]
  },
  {
   "cell_type": "code",
   "execution_count": 2,
   "metadata": {
    "collapsed": false
   },
   "outputs": [],
   "source": [
    "def signal_index(date, key_list):\n",
    "    scores = multistocks_score(date, key_list)\n",
    "    index_s = index_score(scores)\n",
    "    signal = buy_sell_signal(index_s)\n",
    "    return signal"
   ]
  },
  {
   "cell_type": "code",
   "execution_count": 3,
   "metadata": {
    "collapsed": true
   },
   "outputs": [],
   "source": [
    "def get_key_list(element_list):\n",
    "    key_list = []\n",
    "    for element in element_list:\n",
    "        key_list_single = []\n",
    "        key_list_single.append((element))\n",
    "        key_list.append(key_list_single)\n",
    "    return key_list    "
   ]
  },
  {
   "cell_type": "code",
   "execution_count": 25,
   "metadata": {
    "collapsed": false
   },
   "outputs": [],
   "source": [
    "def run():\n",
    "    start_day = date(2007, 1, 1)\n",
    "    end_day = date(2007, 3, 1)\n",
    "\n",
    "    df_sp = pd.read_csv('../Load_data/top_sp500.csv', header = 0)\n",
    "    element_list = np.array(df_sp['top_sp500_2007'])    \n",
    "    key_list = get_key_list(element_list)\n",
    "\n",
    "    signal_list = []\n",
    "    date_list = []\n",
    "\n",
    "    for dt in rrule(DAILY, dtstart=start_day, until=end_day):\n",
    "        date_trading = dt.strftime(\"%Y%m%d\")\n",
    "        signal= signal_index(date_trading, key_list)\n",
    "        date_list.append(dt.strftime(\"%Y-%m-%d\"))\n",
    "        signal_list.append(signal)       \n",
    "        \n",
    "    df_trade = pd.DataFrame({'date':date_list, 'signal':signal_list})    \n",
    "    \n",
    "    return df_trade"
   ]
  },
  {
   "cell_type": "code",
   "execution_count": 26,
   "metadata": {
    "collapsed": true
   },
   "outputs": [],
   "source": [
    "if __name__ == '__main__': \n",
    "    df_trade = run()"
   ]
  },
  {
   "cell_type": "code",
   "execution_count": 28,
   "metadata": {
    "collapsed": false
   },
   "outputs": [
    {
     "data": {
      "text/html": [
       "<div>\n",
       "<table border=\"1\" class=\"dataframe\">\n",
       "  <thead>\n",
       "    <tr style=\"text-align: right;\">\n",
       "      <th></th>\n",
       "      <th>signal</th>\n",
       "    </tr>\n",
       "  </thead>\n",
       "  <tbody>\n",
       "    <tr>\n",
       "      <th>count</th>\n",
       "      <td>60.000000</td>\n",
       "    </tr>\n",
       "    <tr>\n",
       "      <th>mean</th>\n",
       "      <td>0.133333</td>\n",
       "    </tr>\n",
       "    <tr>\n",
       "      <th>std</th>\n",
       "      <td>0.595653</td>\n",
       "    </tr>\n",
       "    <tr>\n",
       "      <th>min</th>\n",
       "      <td>-1.000000</td>\n",
       "    </tr>\n",
       "    <tr>\n",
       "      <th>25%</th>\n",
       "      <td>0.000000</td>\n",
       "    </tr>\n",
       "    <tr>\n",
       "      <th>50%</th>\n",
       "      <td>0.000000</td>\n",
       "    </tr>\n",
       "    <tr>\n",
       "      <th>75%</th>\n",
       "      <td>0.250000</td>\n",
       "    </tr>\n",
       "    <tr>\n",
       "      <th>max</th>\n",
       "      <td>1.000000</td>\n",
       "    </tr>\n",
       "  </tbody>\n",
       "</table>\n",
       "</div>"
      ],
      "text/plain": [
       "          signal\n",
       "count  60.000000\n",
       "mean    0.133333\n",
       "std     0.595653\n",
       "min    -1.000000\n",
       "25%     0.000000\n",
       "50%     0.000000\n",
       "75%     0.250000\n",
       "max     1.000000"
      ]
     },
     "execution_count": 28,
     "metadata": {},
     "output_type": "execute_result"
    }
   ],
   "source": [
    "df_trade.describe()"
   ]
  },
  {
   "cell_type": "code",
   "execution_count": null,
   "metadata": {
    "collapsed": true
   },
   "outputs": [],
   "source": []
  }
 ],
 "metadata": {
  "kernelspec": {
   "display_name": "Python 3",
   "language": "python",
   "name": "python3"
  },
  "language_info": {
   "codemirror_mode": {
    "name": "ipython",
    "version": 3
   },
   "file_extension": ".py",
   "mimetype": "text/x-python",
   "name": "python",
   "nbconvert_exporter": "python",
   "pygments_lexer": "ipython3",
   "version": "3.6.0"
  }
 },
 "nbformat": 4,
 "nbformat_minor": 2
}
