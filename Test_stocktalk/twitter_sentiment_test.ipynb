{
 "cells": [
  {
   "cell_type": "code",
   "execution_count": 1,
   "metadata": {
    "collapsed": false
   },
   "outputs": [],
   "source": [
    "%matplotlib inline\n",
    "import sys\n",
    "sys.path.append('../Load_data')\n",
    "sys.path.append('../Sentiment')\n",
    "import TwitterAxe as Twa\n",
    "import numpy as np\n",
    "import pandas as pd\n",
    "import datetime"
   ]
  },
  {
   "cell_type": "code",
   "execution_count": 8,
   "metadata": {
    "collapsed": false
   },
   "outputs": [],
   "source": [
    "def read_asx200(top = 10):   \n",
    "# read the asx200 list and use the top 10 companies by weight    \n",
    "    df_asx = pd.read_csv('../Load_data/asx200_elements.csv', header = 0)\n",
    "    result = df_asx.sort_values(by = ['Weight'], ascending = False)    \n",
    "    head = np.array(result['Company'].head(top))\n",
    "    weight = np.array(result['Weight'].head(top))\n",
    "    weight = weight/np.sum(weight)\n",
    "    return head, weight\n"
   ]
  },
  {
   "cell_type": "code",
   "execution_count": 26,
   "metadata": {
    "collapsed": false
   },
   "outputs": [],
   "source": [
    "def get_sentiment_score(time_list):\n",
    "# get the sentiment score list for each element in the top asx200\n",
    "    senti_list = []\n",
    "    for i in range(0, len(time_list)):    \n",
    "        senti_list.append(time_list[i]['sentiment'])        \n",
    "    return (senti_list)\n"
   ]
  },
  {
   "cell_type": "code",
   "execution_count": 5,
   "metadata": {
    "collapsed": true
   },
   "outputs": [],
   "source": [
    "ACCESS_TOKEN    = '3857574792-pVwXx4B6ULUs02Vb8AIb9XywmPcNoW8DT8zdnJh'\n",
    "ACCESS_SECRET   = 'qmhl8bGdHqgTJpEX8Svtm10ehbYK9pxfSRbSxAEqO4RVt'\n",
    "CONSUMER_KEY    = 'ZHLkKxpqoKtG7MGuFSPoSXxQe'\n",
    "CONSUMER_SECRET = 'TUzKJsVc3XeLDQxxx1TjgQrZQxGpQOJW4bZIhIU86Vtg0XS0iM'\n",
    "userCredentials = [ACCESS_TOKEN, ACCESS_SECRET, CONSUMER_KEY, CONSUMER_SECRET] \n",
    "\n",
    "minePeriod        = 60*1     # Mine Twitter for 60*n minutes\n",
    "requestFrequency  = 30*1     # Request tweets every n seconds\n",
    "analyzeFrequency  = 30     # Analyze tweets every n minute\n",
    "requestAmount     = 10     # With each request pull n tweets (max = 100)\n",
    "similarityCutoff  = 90       # Filter out tweets with 90% similarity (default = 90)\n"
   ]
  },
  {
   "cell_type": "code",
   "execution_count": 9,
   "metadata": {
    "collapsed": false
   },
   "outputs": [],
   "source": [
    "top_list, weight_list = read_asx200(top=10)\n",
    "axe = Twa.TwitterAxe(userCredentials)"
   ]
  },
  {
   "cell_type": "code",
   "execution_count": 13,
   "metadata": {
    "collapsed": false
   },
   "outputs": [
    {
     "name": "stdout",
     "output_type": "stream",
     "text": [
      "0.31666666666666665\n"
     ]
    }
   ],
   "source": [
    "time_start_epoch = datetime.datetime.now()\n",
    "\n",
    "for i in range(0, len(top_list)):\n",
    "    axe.mine_past(top_list[i].lower(), requestAmount, similarityCutoff, date='2017-04-01')\n",
    "\n",
    "time_used = datetime.datetime.now() - time_start_epoch\n",
    "time_used = float(time_used.seconds) / 60.0 \n",
    "\n",
    "print (time_used)"
   ]
  },
  {
   "cell_type": "code",
   "execution_count": 20,
   "metadata": {
    "collapsed": false
   },
   "outputs": [],
   "source": [
    "score_list = get_sentiment_score(axe.timeSeries)\n"
   ]
  },
  {
   "cell_type": "code",
   "execution_count": 22,
   "metadata": {
    "collapsed": false
   },
   "outputs": [],
   "source": [
    "score_list\n",
    "mean_score = np.dot(score_list, weight_list)"
   ]
  },
  {
   "cell_type": "code",
   "execution_count": 24,
   "metadata": {
    "collapsed": false
   },
   "outputs": [
    {
     "data": {
      "text/plain": [
       "0.098843202483921033"
      ]
     },
     "execution_count": 24,
     "metadata": {},
     "output_type": "execute_result"
    }
   ],
   "source": [
    "mean_score"
   ]
  },
  {
   "cell_type": "code",
   "execution_count": 14,
   "metadata": {
    "collapsed": false
   },
   "outputs": [
    {
     "name": "stdout",
     "output_type": "stream",
     "text": [
      "\u001b[1mInventory\u001b[0m\n",
      "Unique Tweets: 53\n",
      "Filtered Tweets: 59\n",
      "\u001b[1mUnique Tweets\u001b[0m\n",
      "                                                    0\n",
      "0   Whistleblower in media. Examples inc.Commonwea...\n",
      "1   A new banknote from Australia, 1938-1952 ND Is...\n",
      "2   RT @finews_asia: Apple Beats Aussie Banks #App...\n",
      "3    Apple Beats Aussie Banks https://t.co/sBjpwkbAna\n",
      "4              https://t.co/vPVl8I9qbS check this out\n",
      "5   Commonwealth Bank of Australia : Regional busi...\n",
      "6   RT @David_Budzevski: CommBank and Austrade sig...\n",
      "7   Commonwealth Bank of Australia launches climat...\n",
      "8   Commonwealth #Bank of #Australia and Austrade ...\n",
      "9   Commonwealth Bank of Australia : launches inau...\n",
      "10  #DSLR #Photography Commonwealth Bank of Austra...\n",
      "11  Westpac Mobile Banking 7.2 Apk: Westpac Mobile...\n",
      "12  Westpac Mobile Banking 7.2 Apk https://t.co/Vq...\n",
      "13  *Old Post* A look at Westpac Banking Corporati...\n",
      "14  RT @Black1stLand1st: Commerzbank AG; Australia...\n",
      "15  #forex Australian ANZ job advertisements rose ...\n",
      "16  RT @Black1stLand1st: 12. Commerzbank AG\\n\\n13....\n",
      "17  RT @INNOV84LIFE: Intiger Group Limited confirm...\n",
      "18  BHP Billiton Limited $BHP Position Maintained ...\n",
      "19  Featured JOB; Ancillary Operator in Mount Keit...\n",
      "20  #NYSE #stocks: BHP Billiton : #Merger #Acquisi...\n",
      "21  BHP Billiton Limited $BHP Shares Sold by Canal...\n",
      "22  BHP Billiton Limited $BHP Position Decreased b...\n",
      "23  BHP Billiton Limited (ASX:BHP) Buy, Sell or Ho...\n",
      "24  BHP Billiton Limited (ASX:BHP) Buy, Sell or Ho...\n",
      "25  #BHP: The forecast dividend for BHP Billiton L...\n",
      "26  $BLT:LN How safe is your money in BHP Billiton...\n",
      "27  How safe is your money in BHP Billiton Limited...\n",
      "28  Global Iron Target Market 2017: MGMtargets, BH...\n",
      "29  Reuters: Workers return to Escondida but outco...\n",
      "30  Fed Court - Telstra Corporation Limited v Aust...\n",
      "31  #CSL: CSL Limited current price of $125.49 is ...\n",
      "32  RT @HitzRugbySaints: It's great to be out @Sai...\n",
      "33  CSL Finance Limited is looking for company sec...\n",
      "34  RT @UNICEF: #ClimateChange: 1 in 4 children wi...\n",
      "35  RT @Apprenticeships: If you are a top apprenti...\n",
      "36  Get your team registered for coed #SundayFunda...\n",
      "37  Its not too late if you wanted to  sponsor, li...\n",
      "38  Maxine and Neil from the CSL @PremEducation fr...\n",
      "39  Wesfarmers Limited WES  Oil  Gas  Deals and Al...\n",
      "40  Is it time to buy Woolworths Limited and Wesfa...\n",
      "41  .@WOOLWORTHS_SA (2/3) limited use of both her ...\n",
      "42  Trading update - Limited stores are currently ...\n",
      "43  But i have to say @WOOLWORTHS_SA your online s...\n",
      "44  I just invested in some @WOOLWORTHS_SA Holding...\n",
      "45  2018 Woolworths Graduate Program – Procurement...\n",
      "46  2018 Woolworths Graduate Program – Supply Chai...\n",
      "47  2018 Woolworths Graduate Program – Information...\n",
      "48  2018 Woolworths Graduate Program – Property: W...\n",
      "49  WHL: WOOLWORTHS HOLDINGS LIMITED - Dealings in...\n",
      "50  Infrastructure Engineer – Cloud: Woolworths Li...\n",
      "51  RT @CheninKing: The new Raats Granite Blocks C...\n",
      "52  Analyst - Macquarie Infrastructure and Real As...\n",
      "\u001b[1mFiltered Tweets\u001b[0m\n",
      "                                                    0\n",
      "0    Apple Beats Aussie Banks https://t.co/oURNpknqDQ\n",
      "1   CommBank and Austrade sign fintech collaborati...\n",
      "2   CommBank and Austrade sign fintech collaborati...\n",
      "3   CommBank and Austrade sign fintech collaborati...\n",
      "4   #Photography Commonwealth Bank of Australia, M...\n",
      "5   #Photography #Commonwealth Bank of Australia, ...\n",
      "6   #Photography #Commonwealth Bank of Australia, ...\n",
      "7   #Photography #Commonwealth Bank of Australia, ...\n",
      "8   #Photography #Commonwealth Bank of Australia, ...\n",
      "9   RT @finews_asia: Apple Beats Aussie Banks #App...\n",
      "10   Apple Beats Aussie Banks https://t.co/sBjpwkbAna\n",
      "11   Apple Beats Aussie Banks https://t.co/oURNpknqDQ\n",
      "12  RT @Black1stLand1st: Commerzbank AG; Australia...\n",
      "13  RT @Black1stLand1st: Commerzbank AG; Australia...\n",
      "14  RT @Black1stLand1st: Commerzbank AG; Australia...\n",
      "15  RT @Black1stLand1st: Commerzbank AG; Australia...\n",
      "16  RT @Black1stLand1st: Commerzbank AG; Australia...\n",
      "17  RT @Black1stLand1st: Commerzbank AG; Australia...\n",
      "18  RT @Black1stLand1st: Commerzbank AG; Australia...\n",
      "19  RT @Black1stLand1st: Commerzbank AG; Australia...\n",
      "20  RT @Black1stLand1st: Commerzbank AG; Australia...\n",
      "21  RT @Black1stLand1st: Commerzbank AG; Australia...\n",
      "22  Commerzbank AG; Australia and New Zealand Bank...\n",
      "23  RT @Black1stLand1st: 12. Commerzbank AG\\n\\n13....\n",
      "24  RT @Black1stLand1st: 12. Commerzbank AG\\n\\n13....\n",
      "25  RT @Black1stLand1st: 12. Commerzbank AG\\n\\n13....\n",
      "26  RT @Black1stLand1st: 12. Commerzbank AG\\n\\n13....\n",
      "27  RT @Black1stLand1st: 12. Commerzbank AG\\n\\n13....\n",
      "28  RT @Black1stLand1st: 12. Commerzbank AG\\n\\n13....\n",
      "29  RT @INNOV84LIFE: Intiger Group Limited confirm...\n",
      "30  BHP Billiton Limited $BHP Position Maintained ...\n",
      "31  BHP Billiton Limited $BHP Shares Sold by Canal...\n",
      "32  $BLT:LN How safe is your money in BHP Billiton...\n",
      "33  How safe is your money in BHP Billiton Limited...\n",
      "34  RT @HitzRugbySaints: It's great to be out @Sai...\n",
      "35  RT @HitzRugbySaints: It's great to be out @Sai...\n",
      "36  RT @HitzRugbySaints: It's great to be out @Sai...\n",
      "37  It's great to be out @SaintsRugby completing t...\n",
      "38  #WOW: Woolworths Limited current price of $26....\n",
      "39  2018 Woolworths Graduate Program – Procurement...\n",
      "40  2018 Woolworths Graduate Program – Supply Chai...\n",
      "41  2018 Woolworths Graduate Program – Information...\n",
      "42  Is it time to buy Woolworths Limited and Wesfa...\n",
      "43  Infrastructure Engineer – Cloud: Woolworths Li...\n",
      "44  RT @CheninKing: The new Raats Granite Blocks C...\n",
      "45  RT @CheninKing: The new Raats Granite Blocks C...\n",
      "46  The new Raats Granite Blocks Chenin now availa...\n",
      "47  RT @Black1stLand1st: Commerzbank AG; Australia...\n",
      "48  RT @Black1stLand1st: Commerzbank AG; Australia...\n",
      "49  RT @Black1stLand1st: Commerzbank AG; Australia...\n",
      "50  RT @Black1stLand1st: Commerzbank AG; Australia...\n",
      "51  RT @Black1stLand1st: Commerzbank AG; Australia...\n",
      "52  RT @Black1stLand1st: Commerzbank AG; Australia...\n",
      "53  RT @Black1stLand1st: Commerzbank AG; Australia...\n",
      "54  RT @Black1stLand1st: Commerzbank AG; Australia...\n",
      "55  RT @Black1stLand1st: Commerzbank AG; Australia...\n",
      "56  RT @Black1stLand1st: Commerzbank AG; Australia...\n",
      "57  RT @Black1stLand1st: Commerzbank AG; Australia...\n",
      "58  Commerzbank AG; Australia and New Zealand Bank...\n",
      "\u001b[1mTime Series\u001b[0m\n",
      "          time  sentiment  tweets\n",
      "0  03:43:07 PM      0.381      11\n",
      "1  03:43:07 PM      0.000       3\n",
      "2  03:43:10 PM     -0.190       3\n",
      "3  03:43:10 PM      0.459       1\n",
      "4  03:43:12 PM      0.044      12\n",
      "5  03:43:13 PM     -0.077       1\n",
      "6  03:43:15 PM      0.018       8\n",
      "7  03:43:16 PM     -0.038       2\n",
      "8  03:43:21 PM     -0.009      11\n",
      "9  03:43:25 PM     -0.052       1\n"
     ]
    }
   ],
   "source": [
    "axe.showInventory()\n",
    "axe.showUniqueTweets()\n",
    "axe.showFilteredTweets()\n",
    "axe.showTimeSeries()"
   ]
  },
  {
   "cell_type": "code",
   "execution_count": null,
   "metadata": {
    "collapsed": false
   },
   "outputs": [],
   "source": [
    "axe.mine_past(\"ipad pro\", requestAmount, similarityCutoff, date='2017-04-01')\n",
    "axe.mine_live(\"Apple\", minePeriod, requestFrequency, analyzeFrequency, requestAmount, similarityCutoff)"
   ]
  },
  {
   "cell_type": "code",
   "execution_count": 35,
   "metadata": {
    "collapsed": false
   },
   "outputs": [
    {
     "name": "stdout",
     "output_type": "stream",
     "text": [
      "Why China's Miraculous Economic Growth Has Come to an End... - https://t.co/3JONcgSBxB https://t.co/VdqocN2OOr via @Inoreader\n",
      "#Trump’s “tough on #China” trade report is much the same as #Obama’s in 2016 https://t.co/rxkWI8anOe via @qz\n",
      "Dalai Lama Fled To India After Failed Armed Rebellion: China https://t.co/0h5dqxRS6R\n",
      "Van a ver que mañana va a salir una noticia proveniente de la \"caja china\" y van a distraer a unos cuantos...\n",
      "RT @PDChina: The most stunning running track in China: cherry blossoms in full swing aside the track along Qiantang River in Han… \n",
      "RT @LadydeManorBorn: Different response in China. https://t.co/0Oe4XZrXID\n",
      "https://t.co/DNE7Iv4nEv Creamer Made in Japan (fine porcelain china) NEW #antique @ebay https://t.co/IHN5RPi0gJ\n",
      "US is ready to act on North Korea with or without China's help, says Trump https://t.co/GDg51pokJ4\n",
      "Dalai Lama Fled To India After Failed Armed Rebellion: China https://t.co/yn5JFXn1FI\n",
      "RT @Jakob_Gleechi: “You just don’t get it. In China, the robots are going to come just in time.” https://t.co/PlLp7U9wot - why #robots will…\n",
      "Written 10 Tweets\n"
     ]
    }
   ],
   "source": [
    "from nltk.twitter import Twitter\n",
    "tw = Twitter()\n",
    "results = tw.tweets(keywords='china', limit=10) #sample from the public stream"
   ]
  },
  {
   "cell_type": "code",
   "execution_count": 41,
   "metadata": {
    "collapsed": false
   },
   "outputs": [],
   "source": [
    "new = str(results)"
   ]
  },
  {
   "cell_type": "code",
   "execution_count": 42,
   "metadata": {
    "collapsed": false
   },
   "outputs": [
    {
     "data": {
      "text/plain": [
       "'None'"
      ]
     },
     "execution_count": 42,
     "metadata": {},
     "output_type": "execute_result"
    }
   ],
   "source": [
    "new"
   ]
  },
  {
   "cell_type": "code",
   "execution_count": 43,
   "metadata": {
    "collapsed": false
   },
   "outputs": [],
   "source": [
    "from twitter import Twitter, OAuth\n",
    "twin = Twitter(auth=OAuth(userCredentials[0], userCredentials[1], userCredentials[2], userCredentials[3]))\n",
    "\n",
    "result_2= twin.statuses.user_timeline(screen_name ='realDonaldTrump')"
   ]
  },
  {
   "cell_type": "code",
   "execution_count": 45,
   "metadata": {
    "collapsed": true
   },
   "outputs": [],
   "source": [
    "from twitter import TwitterStream as Tws"
   ]
  },
  {
   "cell_type": "code",
   "execution_count": 56,
   "metadata": {
    "collapsed": false
   },
   "outputs": [],
   "source": [
    "tws = Tws(auth=OAuth(userCredentials[0], userCredentials[1], userCredentials[2], userCredentials[3]))"
   ]
  },
  {
   "cell_type": "code",
   "execution_count": 84,
   "metadata": {
    "collapsed": false
   },
   "outputs": [
    {
     "ename": "TwitterHTTPError",
     "evalue": "Twitter sent status 416 for URL: 1.1/statuses/filter.json using parameters: (count=10&oauth_consumer_key=ZHLkKxpqoKtG7MGuFSPoSXxQe&oauth_nonce=15080557687497473000&oauth_signature_method=HMAC-SHA1&oauth_timestamp=1491215031&oauth_token=3857574792-pVwXx4B6ULUs02Vb8AIb9XywmPcNoW8DT8zdnJh&oauth_version=1.0&track=china&oauth_signature=ylKhrxq8cOvBY72Z27kMWIuFxZI%3D)\ndetails: Parameter count not allowed in role statusDefaultFiltered\r\n",
     "output_type": "error",
     "traceback": [
      "\u001b[0;31m---------------------------------------------------------------------------\u001b[0m",
      "\u001b[0;31mHTTPError\u001b[0m                                 Traceback (most recent call last)",
      "\u001b[0;32m/home/peng/.conda/envs/py3/lib/python3.6/site-packages/twitter/stream.py\u001b[0m in \u001b[0;36mhandle_stream_response\u001b[0;34m(req, uri, arg_data, block, timeout, heartbeat_timeout)\u001b[0m\n\u001b[1;32m    206\u001b[0m     \u001b[0;32mtry\u001b[0m\u001b[0;34m:\u001b[0m\u001b[0;34m\u001b[0m\u001b[0m\n\u001b[0;32m--> 207\u001b[0;31m         \u001b[0mhandle\u001b[0m \u001b[0;34m=\u001b[0m \u001b[0murllib_request\u001b[0m\u001b[0;34m.\u001b[0m\u001b[0murlopen\u001b[0m\u001b[0;34m(\u001b[0m\u001b[0mreq\u001b[0m\u001b[0;34m,\u001b[0m\u001b[0;34m)\u001b[0m\u001b[0;34m\u001b[0m\u001b[0m\n\u001b[0m\u001b[1;32m    208\u001b[0m     \u001b[0;32mexcept\u001b[0m \u001b[0murllib_error\u001b[0m\u001b[0;34m.\u001b[0m\u001b[0mHTTPError\u001b[0m \u001b[0;32mas\u001b[0m \u001b[0me\u001b[0m\u001b[0;34m:\u001b[0m\u001b[0;34m\u001b[0m\u001b[0m\n",
      "\u001b[0;32m/home/peng/.conda/envs/py3/lib/python3.6/urllib/request.py\u001b[0m in \u001b[0;36murlopen\u001b[0;34m(url, data, timeout, cafile, capath, cadefault, context)\u001b[0m\n\u001b[1;32m    222\u001b[0m         \u001b[0mopener\u001b[0m \u001b[0;34m=\u001b[0m \u001b[0m_opener\u001b[0m\u001b[0;34m\u001b[0m\u001b[0m\n\u001b[0;32m--> 223\u001b[0;31m     \u001b[0;32mreturn\u001b[0m \u001b[0mopener\u001b[0m\u001b[0;34m.\u001b[0m\u001b[0mopen\u001b[0m\u001b[0;34m(\u001b[0m\u001b[0murl\u001b[0m\u001b[0;34m,\u001b[0m \u001b[0mdata\u001b[0m\u001b[0;34m,\u001b[0m \u001b[0mtimeout\u001b[0m\u001b[0;34m)\u001b[0m\u001b[0;34m\u001b[0m\u001b[0m\n\u001b[0m\u001b[1;32m    224\u001b[0m \u001b[0;34m\u001b[0m\u001b[0m\n",
      "\u001b[0;32m/home/peng/.conda/envs/py3/lib/python3.6/urllib/request.py\u001b[0m in \u001b[0;36mopen\u001b[0;34m(self, fullurl, data, timeout)\u001b[0m\n\u001b[1;32m    531\u001b[0m             \u001b[0mmeth\u001b[0m \u001b[0;34m=\u001b[0m \u001b[0mgetattr\u001b[0m\u001b[0;34m(\u001b[0m\u001b[0mprocessor\u001b[0m\u001b[0;34m,\u001b[0m \u001b[0mmeth_name\u001b[0m\u001b[0;34m)\u001b[0m\u001b[0;34m\u001b[0m\u001b[0m\n\u001b[0;32m--> 532\u001b[0;31m             \u001b[0mresponse\u001b[0m \u001b[0;34m=\u001b[0m \u001b[0mmeth\u001b[0m\u001b[0;34m(\u001b[0m\u001b[0mreq\u001b[0m\u001b[0;34m,\u001b[0m \u001b[0mresponse\u001b[0m\u001b[0;34m)\u001b[0m\u001b[0;34m\u001b[0m\u001b[0m\n\u001b[0m\u001b[1;32m    533\u001b[0m \u001b[0;34m\u001b[0m\u001b[0m\n",
      "\u001b[0;32m/home/peng/.conda/envs/py3/lib/python3.6/urllib/request.py\u001b[0m in \u001b[0;36mhttp_response\u001b[0;34m(self, request, response)\u001b[0m\n\u001b[1;32m    641\u001b[0m             response = self.parent.error(\n\u001b[0;32m--> 642\u001b[0;31m                 'http', request, response, code, msg, hdrs)\n\u001b[0m\u001b[1;32m    643\u001b[0m \u001b[0;34m\u001b[0m\u001b[0m\n",
      "\u001b[0;32m/home/peng/.conda/envs/py3/lib/python3.6/urllib/request.py\u001b[0m in \u001b[0;36merror\u001b[0;34m(self, proto, *args)\u001b[0m\n\u001b[1;32m    569\u001b[0m             \u001b[0margs\u001b[0m \u001b[0;34m=\u001b[0m \u001b[0;34m(\u001b[0m\u001b[0mdict\u001b[0m\u001b[0;34m,\u001b[0m \u001b[0;34m'default'\u001b[0m\u001b[0;34m,\u001b[0m \u001b[0;34m'http_error_default'\u001b[0m\u001b[0;34m)\u001b[0m \u001b[0;34m+\u001b[0m \u001b[0morig_args\u001b[0m\u001b[0;34m\u001b[0m\u001b[0m\n\u001b[0;32m--> 570\u001b[0;31m             \u001b[0;32mreturn\u001b[0m \u001b[0mself\u001b[0m\u001b[0;34m.\u001b[0m\u001b[0m_call_chain\u001b[0m\u001b[0;34m(\u001b[0m\u001b[0;34m*\u001b[0m\u001b[0margs\u001b[0m\u001b[0;34m)\u001b[0m\u001b[0;34m\u001b[0m\u001b[0m\n\u001b[0m\u001b[1;32m    571\u001b[0m \u001b[0;34m\u001b[0m\u001b[0m\n",
      "\u001b[0;32m/home/peng/.conda/envs/py3/lib/python3.6/urllib/request.py\u001b[0m in \u001b[0;36m_call_chain\u001b[0;34m(self, chain, kind, meth_name, *args)\u001b[0m\n\u001b[1;32m    503\u001b[0m             \u001b[0mfunc\u001b[0m \u001b[0;34m=\u001b[0m \u001b[0mgetattr\u001b[0m\u001b[0;34m(\u001b[0m\u001b[0mhandler\u001b[0m\u001b[0;34m,\u001b[0m \u001b[0mmeth_name\u001b[0m\u001b[0;34m)\u001b[0m\u001b[0;34m\u001b[0m\u001b[0m\n\u001b[0;32m--> 504\u001b[0;31m             \u001b[0mresult\u001b[0m \u001b[0;34m=\u001b[0m \u001b[0mfunc\u001b[0m\u001b[0;34m(\u001b[0m\u001b[0;34m*\u001b[0m\u001b[0margs\u001b[0m\u001b[0;34m)\u001b[0m\u001b[0;34m\u001b[0m\u001b[0m\n\u001b[0m\u001b[1;32m    505\u001b[0m             \u001b[0;32mif\u001b[0m \u001b[0mresult\u001b[0m \u001b[0;32mis\u001b[0m \u001b[0;32mnot\u001b[0m \u001b[0;32mNone\u001b[0m\u001b[0;34m:\u001b[0m\u001b[0;34m\u001b[0m\u001b[0m\n",
      "\u001b[0;32m/home/peng/.conda/envs/py3/lib/python3.6/urllib/request.py\u001b[0m in \u001b[0;36mhttp_error_default\u001b[0;34m(self, req, fp, code, msg, hdrs)\u001b[0m\n\u001b[1;32m    649\u001b[0m     \u001b[0;32mdef\u001b[0m \u001b[0mhttp_error_default\u001b[0m\u001b[0;34m(\u001b[0m\u001b[0mself\u001b[0m\u001b[0;34m,\u001b[0m \u001b[0mreq\u001b[0m\u001b[0;34m,\u001b[0m \u001b[0mfp\u001b[0m\u001b[0;34m,\u001b[0m \u001b[0mcode\u001b[0m\u001b[0;34m,\u001b[0m \u001b[0mmsg\u001b[0m\u001b[0;34m,\u001b[0m \u001b[0mhdrs\u001b[0m\u001b[0;34m)\u001b[0m\u001b[0;34m:\u001b[0m\u001b[0;34m\u001b[0m\u001b[0m\n\u001b[0;32m--> 650\u001b[0;31m         \u001b[0;32mraise\u001b[0m \u001b[0mHTTPError\u001b[0m\u001b[0;34m(\u001b[0m\u001b[0mreq\u001b[0m\u001b[0;34m.\u001b[0m\u001b[0mfull_url\u001b[0m\u001b[0;34m,\u001b[0m \u001b[0mcode\u001b[0m\u001b[0;34m,\u001b[0m \u001b[0mmsg\u001b[0m\u001b[0;34m,\u001b[0m \u001b[0mhdrs\u001b[0m\u001b[0;34m,\u001b[0m \u001b[0mfp\u001b[0m\u001b[0;34m)\u001b[0m\u001b[0;34m\u001b[0m\u001b[0m\n\u001b[0m\u001b[1;32m    651\u001b[0m \u001b[0;34m\u001b[0m\u001b[0m\n",
      "\u001b[0;31mHTTPError\u001b[0m: HTTP Error 416: Requested Range Not Satisfiable",
      "\nDuring handling of the above exception, another exception occurred:\n",
      "\u001b[0;31mTwitterHTTPError\u001b[0m                          Traceback (most recent call last)",
      "\u001b[0;32m<ipython-input-84-b317422e3346>\u001b[0m in \u001b[0;36m<module>\u001b[0;34m()\u001b[0m\n\u001b[0;32m----> 1\u001b[0;31m \u001b[0mresults_n\u001b[0m \u001b[0;34m=\u001b[0m \u001b[0mtws\u001b[0m\u001b[0;34m.\u001b[0m\u001b[0mstatuses\u001b[0m\u001b[0;34m.\u001b[0m\u001b[0mfilter\u001b[0m\u001b[0;34m(\u001b[0m\u001b[0mtrack\u001b[0m\u001b[0;34m=\u001b[0m\u001b[0;34m'china'\u001b[0m\u001b[0;34m,\u001b[0m \u001b[0mcount\u001b[0m \u001b[0;34m=\u001b[0m \u001b[0;36m10\u001b[0m\u001b[0;34m)\u001b[0m\u001b[0;34m\u001b[0m\u001b[0m\n\u001b[0m",
      "\u001b[0;32m/home/peng/.conda/envs/py3/lib/python3.6/site-packages/twitter/api.py\u001b[0m in \u001b[0;36m__call__\u001b[0;34m(self, **kwargs)\u001b[0m\n\u001b[1;32m    310\u001b[0m             \u001b[0;32mreturn\u001b[0m \u001b[0mself\u001b[0m\u001b[0;34m.\u001b[0m\u001b[0m_handle_response_with_retry\u001b[0m\u001b[0;34m(\u001b[0m\u001b[0mreq\u001b[0m\u001b[0;34m,\u001b[0m \u001b[0muri\u001b[0m\u001b[0;34m,\u001b[0m \u001b[0marg_data\u001b[0m\u001b[0;34m,\u001b[0m \u001b[0m_timeout\u001b[0m\u001b[0;34m)\u001b[0m\u001b[0;34m\u001b[0m\u001b[0m\n\u001b[1;32m    311\u001b[0m         \u001b[0;32melse\u001b[0m\u001b[0;34m:\u001b[0m\u001b[0;34m\u001b[0m\u001b[0m\n\u001b[0;32m--> 312\u001b[0;31m             \u001b[0;32mreturn\u001b[0m \u001b[0mself\u001b[0m\u001b[0;34m.\u001b[0m\u001b[0m_handle_response\u001b[0m\u001b[0;34m(\u001b[0m\u001b[0mreq\u001b[0m\u001b[0;34m,\u001b[0m \u001b[0muri\u001b[0m\u001b[0;34m,\u001b[0m \u001b[0marg_data\u001b[0m\u001b[0;34m,\u001b[0m \u001b[0m_timeout\u001b[0m\u001b[0;34m)\u001b[0m\u001b[0;34m\u001b[0m\u001b[0m\n\u001b[0m\u001b[1;32m    313\u001b[0m \u001b[0;34m\u001b[0m\u001b[0m\n\u001b[1;32m    314\u001b[0m     \u001b[0;32mdef\u001b[0m \u001b[0m_handle_response\u001b[0m\u001b[0;34m(\u001b[0m\u001b[0mself\u001b[0m\u001b[0;34m,\u001b[0m \u001b[0mreq\u001b[0m\u001b[0;34m,\u001b[0m \u001b[0muri\u001b[0m\u001b[0;34m,\u001b[0m \u001b[0marg_data\u001b[0m\u001b[0;34m,\u001b[0m \u001b[0m_timeout\u001b[0m\u001b[0;34m=\u001b[0m\u001b[0;32mNone\u001b[0m\u001b[0;34m)\u001b[0m\u001b[0;34m:\u001b[0m\u001b[0;34m\u001b[0m\u001b[0m\n",
      "\u001b[0;32m/home/peng/.conda/envs/py3/lib/python3.6/site-packages/twitter/stream.py\u001b[0m in \u001b[0;36m_handle_response\u001b[0;34m(self, req, uri, arg_data, _timeout)\u001b[0m\n\u001b[1;32m    282\u001b[0m                 return handle_stream_response(\n\u001b[1;32m    283\u001b[0m                     \u001b[0mreq\u001b[0m\u001b[0;34m,\u001b[0m \u001b[0muri\u001b[0m\u001b[0;34m,\u001b[0m \u001b[0marg_data\u001b[0m\u001b[0;34m,\u001b[0m \u001b[0mblock\u001b[0m\u001b[0;34m,\u001b[0m\u001b[0;34m\u001b[0m\u001b[0m\n\u001b[0;32m--> 284\u001b[0;31m                     _timeout or timeout, heartbeat_timeout)\n\u001b[0m\u001b[1;32m    285\u001b[0m \u001b[0;34m\u001b[0m\u001b[0m\n\u001b[1;32m    286\u001b[0m         TwitterCall.__init__(\n",
      "\u001b[0;32m/home/peng/.conda/envs/py3/lib/python3.6/site-packages/twitter/stream.py\u001b[0m in \u001b[0;36mhandle_stream_response\u001b[0;34m(req, uri, arg_data, block, timeout, heartbeat_timeout)\u001b[0m\n\u001b[1;32m    207\u001b[0m         \u001b[0mhandle\u001b[0m \u001b[0;34m=\u001b[0m \u001b[0murllib_request\u001b[0m\u001b[0;34m.\u001b[0m\u001b[0murlopen\u001b[0m\u001b[0;34m(\u001b[0m\u001b[0mreq\u001b[0m\u001b[0;34m,\u001b[0m\u001b[0;34m)\u001b[0m\u001b[0;34m\u001b[0m\u001b[0m\n\u001b[1;32m    208\u001b[0m     \u001b[0;32mexcept\u001b[0m \u001b[0murllib_error\u001b[0m\u001b[0;34m.\u001b[0m\u001b[0mHTTPError\u001b[0m \u001b[0;32mas\u001b[0m \u001b[0me\u001b[0m\u001b[0;34m:\u001b[0m\u001b[0;34m\u001b[0m\u001b[0m\n\u001b[0;32m--> 209\u001b[0;31m         \u001b[0;32mraise\u001b[0m \u001b[0mTwitterHTTPError\u001b[0m\u001b[0;34m(\u001b[0m\u001b[0me\u001b[0m\u001b[0;34m,\u001b[0m \u001b[0muri\u001b[0m\u001b[0;34m,\u001b[0m \u001b[0;34m'json'\u001b[0m\u001b[0;34m,\u001b[0m \u001b[0marg_data\u001b[0m\u001b[0;34m)\u001b[0m\u001b[0;34m\u001b[0m\u001b[0m\n\u001b[0m\u001b[1;32m    210\u001b[0m     \u001b[0;32mreturn\u001b[0m \u001b[0miter\u001b[0m\u001b[0;34m(\u001b[0m\u001b[0mTwitterJSONIter\u001b[0m\u001b[0;34m(\u001b[0m\u001b[0mhandle\u001b[0m\u001b[0;34m,\u001b[0m \u001b[0muri\u001b[0m\u001b[0;34m,\u001b[0m \u001b[0marg_data\u001b[0m\u001b[0;34m,\u001b[0m \u001b[0mblock\u001b[0m\u001b[0;34m,\u001b[0m \u001b[0mtimeout\u001b[0m\u001b[0;34m,\u001b[0m \u001b[0mheartbeat_timeout\u001b[0m\u001b[0;34m)\u001b[0m\u001b[0;34m)\u001b[0m\u001b[0;34m\u001b[0m\u001b[0m\n\u001b[1;32m    211\u001b[0m \u001b[0;34m\u001b[0m\u001b[0m\n",
      "\u001b[0;31mTwitterHTTPError\u001b[0m: Twitter sent status 416 for URL: 1.1/statuses/filter.json using parameters: (count=10&oauth_consumer_key=ZHLkKxpqoKtG7MGuFSPoSXxQe&oauth_nonce=15080557687497473000&oauth_signature_method=HMAC-SHA1&oauth_timestamp=1491215031&oauth_token=3857574792-pVwXx4B6ULUs02Vb8AIb9XywmPcNoW8DT8zdnJh&oauth_version=1.0&track=china&oauth_signature=ylKhrxq8cOvBY72Z27kMWIuFxZI%3D)\ndetails: Parameter count not allowed in role statusDefaultFiltered\r\n"
     ]
    }
   ],
   "source": [
    "results_n = tws.statuses.filter(track='china', count = 10)"
   ]
  },
  {
   "cell_type": "code",
   "execution_count": 83,
   "metadata": {
    "collapsed": false
   },
   "outputs": [
    {
     "ename": "KeyError",
     "evalue": "'text'",
     "output_type": "error",
     "traceback": [
      "\u001b[0;31m---------------------------------------------------------------------------\u001b[0m",
      "\u001b[0;31mKeyError\u001b[0m                                  Traceback (most recent call last)",
      "\u001b[0;32m<ipython-input-83-cd79bd05b4e2>\u001b[0m in \u001b[0;36m<module>\u001b[0;34m()\u001b[0m\n\u001b[1;32m      2\u001b[0m \u001b[0;32mfor\u001b[0m \u001b[0mi\u001b[0m \u001b[0;32min\u001b[0m \u001b[0mresults_n\u001b[0m\u001b[0;34m:\u001b[0m\u001b[0;34m\u001b[0m\u001b[0m\n\u001b[1;32m      3\u001b[0m     \u001b[0;31m#print (i)\u001b[0m\u001b[0;34m\u001b[0m\u001b[0;34m\u001b[0m\u001b[0m\n\u001b[0;32m----> 4\u001b[0;31m     \u001b[0mtext_stream\u001b[0m\u001b[0;34m.\u001b[0m\u001b[0mappend\u001b[0m\u001b[0;34m(\u001b[0m\u001b[0;34m(\u001b[0m\u001b[0mi\u001b[0m\u001b[0;34m[\u001b[0m\u001b[0;34m'text'\u001b[0m\u001b[0;34m]\u001b[0m\u001b[0;34m)\u001b[0m\u001b[0;34m)\u001b[0m\u001b[0;34m\u001b[0m\u001b[0m\n\u001b[0m",
      "\u001b[0;31mKeyError\u001b[0m: 'text'"
     ]
    }
   ],
   "source": [
    "text_stream = []\n",
    "for i in results_n:\n",
    "    #print (i)\n",
    "    text_stream.append((i['text']))"
   ]
  },
  {
   "cell_type": "code",
   "execution_count": null,
   "metadata": {
    "collapsed": false
   },
   "outputs": [],
   "source": [
    "len(text_stream)"
   ]
  },
  {
   "cell_type": "code",
   "execution_count": 71,
   "metadata": {
    "collapsed": false
   },
   "outputs": [
    {
     "ename": "TypeError",
     "evalue": "'generator' object is not subscriptable",
     "output_type": "error",
     "traceback": [
      "\u001b[0;31m---------------------------------------------------------------------------\u001b[0m",
      "\u001b[0;31mTypeError\u001b[0m                                 Traceback (most recent call last)",
      "\u001b[0;32m<ipython-input-71-ffc68455b303>\u001b[0m in \u001b[0;36m<module>\u001b[0;34m()\u001b[0m\n\u001b[0;32m----> 1\u001b[0;31m \u001b[0mresults_n\u001b[0m\u001b[0;34m[\u001b[0m\u001b[0;36m0\u001b[0m\u001b[0;34m]\u001b[0m\u001b[0;34m\u001b[0m\u001b[0m\n\u001b[0m",
      "\u001b[0;31mTypeError\u001b[0m: 'generator' object is not subscriptable"
     ]
    }
   ],
   "source": [
    "results_n[0]"
   ]
  },
  {
   "cell_type": "code",
   "execution_count": null,
   "metadata": {
    "collapsed": true
   },
   "outputs": [],
   "source": []
  },
  {
   "cell_type": "code",
   "execution_count": 38,
   "metadata": {
    "collapsed": false
   },
   "outputs": [],
   "source": [
    "result_2= twin.statuses.user_timeline(screen_name ='realDonaldTrump')"
   ]
  },
  {
   "cell_type": "code",
   "execution_count": 40,
   "metadata": {
    "collapsed": false
   },
   "outputs": [
    {
     "ename": "TwitterHTTPError",
     "evalue": "Twitter sent status 404 for URL: 1.1/statuses/public.json using parameters: (oauth_consumer_key=ZHLkKxpqoKtG7MGuFSPoSXxQe&oauth_nonce=2158472835436481917&oauth_signature_method=HMAC-SHA1&oauth_timestamp=1491201470&oauth_token=3857574792-pVwXx4B6ULUs02Vb8AIb9XywmPcNoW8DT8zdnJh&oauth_version=1.0&screen_name=realDonaldTrump&oauth_signature=mTFBJ0VeiUBV3xVSIXo1Jm19CgA%3D)\ndetails: {'errors': [{'message': 'Sorry, that page does not exist', 'code': 34}]}",
     "output_type": "error",
     "traceback": [
      "\u001b[0;31m---------------------------------------------------------------------------\u001b[0m",
      "\u001b[0;31mHTTPError\u001b[0m                                 Traceback (most recent call last)",
      "\u001b[0;32m/home/peng/.conda/envs/py3/lib/python3.6/site-packages/twitter/api.py\u001b[0m in \u001b[0;36m_handle_response\u001b[0;34m(self, req, uri, arg_data, _timeout)\u001b[0m\n\u001b[1;32m    318\u001b[0m         \u001b[0;32mtry\u001b[0m\u001b[0;34m:\u001b[0m\u001b[0;34m\u001b[0m\u001b[0m\n\u001b[0;32m--> 319\u001b[0;31m             \u001b[0mhandle\u001b[0m \u001b[0;34m=\u001b[0m \u001b[0murllib_request\u001b[0m\u001b[0;34m.\u001b[0m\u001b[0murlopen\u001b[0m\u001b[0;34m(\u001b[0m\u001b[0mreq\u001b[0m\u001b[0;34m,\u001b[0m \u001b[0;34m**\u001b[0m\u001b[0mkwargs\u001b[0m\u001b[0;34m)\u001b[0m\u001b[0;34m\u001b[0m\u001b[0m\n\u001b[0m\u001b[1;32m    320\u001b[0m             \u001b[0;32mif\u001b[0m \u001b[0mhandle\u001b[0m\u001b[0;34m.\u001b[0m\u001b[0mheaders\u001b[0m\u001b[0;34m[\u001b[0m\u001b[0;34m'Content-Type'\u001b[0m\u001b[0;34m]\u001b[0m \u001b[0;32min\u001b[0m \u001b[0;34m[\u001b[0m\u001b[0;34m'image/jpeg'\u001b[0m\u001b[0;34m,\u001b[0m \u001b[0;34m'image/png'\u001b[0m\u001b[0;34m]\u001b[0m\u001b[0;34m:\u001b[0m\u001b[0;34m\u001b[0m\u001b[0m\n",
      "\u001b[0;32m/home/peng/.conda/envs/py3/lib/python3.6/urllib/request.py\u001b[0m in \u001b[0;36murlopen\u001b[0;34m(url, data, timeout, cafile, capath, cadefault, context)\u001b[0m\n\u001b[1;32m    222\u001b[0m         \u001b[0mopener\u001b[0m \u001b[0;34m=\u001b[0m \u001b[0m_opener\u001b[0m\u001b[0;34m\u001b[0m\u001b[0m\n\u001b[0;32m--> 223\u001b[0;31m     \u001b[0;32mreturn\u001b[0m \u001b[0mopener\u001b[0m\u001b[0;34m.\u001b[0m\u001b[0mopen\u001b[0m\u001b[0;34m(\u001b[0m\u001b[0murl\u001b[0m\u001b[0;34m,\u001b[0m \u001b[0mdata\u001b[0m\u001b[0;34m,\u001b[0m \u001b[0mtimeout\u001b[0m\u001b[0;34m)\u001b[0m\u001b[0;34m\u001b[0m\u001b[0m\n\u001b[0m\u001b[1;32m    224\u001b[0m \u001b[0;34m\u001b[0m\u001b[0m\n",
      "\u001b[0;32m/home/peng/.conda/envs/py3/lib/python3.6/urllib/request.py\u001b[0m in \u001b[0;36mopen\u001b[0;34m(self, fullurl, data, timeout)\u001b[0m\n\u001b[1;32m    531\u001b[0m             \u001b[0mmeth\u001b[0m \u001b[0;34m=\u001b[0m \u001b[0mgetattr\u001b[0m\u001b[0;34m(\u001b[0m\u001b[0mprocessor\u001b[0m\u001b[0;34m,\u001b[0m \u001b[0mmeth_name\u001b[0m\u001b[0;34m)\u001b[0m\u001b[0;34m\u001b[0m\u001b[0m\n\u001b[0;32m--> 532\u001b[0;31m             \u001b[0mresponse\u001b[0m \u001b[0;34m=\u001b[0m \u001b[0mmeth\u001b[0m\u001b[0;34m(\u001b[0m\u001b[0mreq\u001b[0m\u001b[0;34m,\u001b[0m \u001b[0mresponse\u001b[0m\u001b[0;34m)\u001b[0m\u001b[0;34m\u001b[0m\u001b[0m\n\u001b[0m\u001b[1;32m    533\u001b[0m \u001b[0;34m\u001b[0m\u001b[0m\n",
      "\u001b[0;32m/home/peng/.conda/envs/py3/lib/python3.6/urllib/request.py\u001b[0m in \u001b[0;36mhttp_response\u001b[0;34m(self, request, response)\u001b[0m\n\u001b[1;32m    641\u001b[0m             response = self.parent.error(\n\u001b[0;32m--> 642\u001b[0;31m                 'http', request, response, code, msg, hdrs)\n\u001b[0m\u001b[1;32m    643\u001b[0m \u001b[0;34m\u001b[0m\u001b[0m\n",
      "\u001b[0;32m/home/peng/.conda/envs/py3/lib/python3.6/urllib/request.py\u001b[0m in \u001b[0;36merror\u001b[0;34m(self, proto, *args)\u001b[0m\n\u001b[1;32m    569\u001b[0m             \u001b[0margs\u001b[0m \u001b[0;34m=\u001b[0m \u001b[0;34m(\u001b[0m\u001b[0mdict\u001b[0m\u001b[0;34m,\u001b[0m \u001b[0;34m'default'\u001b[0m\u001b[0;34m,\u001b[0m \u001b[0;34m'http_error_default'\u001b[0m\u001b[0;34m)\u001b[0m \u001b[0;34m+\u001b[0m \u001b[0morig_args\u001b[0m\u001b[0;34m\u001b[0m\u001b[0m\n\u001b[0;32m--> 570\u001b[0;31m             \u001b[0;32mreturn\u001b[0m \u001b[0mself\u001b[0m\u001b[0;34m.\u001b[0m\u001b[0m_call_chain\u001b[0m\u001b[0;34m(\u001b[0m\u001b[0;34m*\u001b[0m\u001b[0margs\u001b[0m\u001b[0;34m)\u001b[0m\u001b[0;34m\u001b[0m\u001b[0m\n\u001b[0m\u001b[1;32m    571\u001b[0m \u001b[0;34m\u001b[0m\u001b[0m\n",
      "\u001b[0;32m/home/peng/.conda/envs/py3/lib/python3.6/urllib/request.py\u001b[0m in \u001b[0;36m_call_chain\u001b[0;34m(self, chain, kind, meth_name, *args)\u001b[0m\n\u001b[1;32m    503\u001b[0m             \u001b[0mfunc\u001b[0m \u001b[0;34m=\u001b[0m \u001b[0mgetattr\u001b[0m\u001b[0;34m(\u001b[0m\u001b[0mhandler\u001b[0m\u001b[0;34m,\u001b[0m \u001b[0mmeth_name\u001b[0m\u001b[0;34m)\u001b[0m\u001b[0;34m\u001b[0m\u001b[0m\n\u001b[0;32m--> 504\u001b[0;31m             \u001b[0mresult\u001b[0m \u001b[0;34m=\u001b[0m \u001b[0mfunc\u001b[0m\u001b[0;34m(\u001b[0m\u001b[0;34m*\u001b[0m\u001b[0margs\u001b[0m\u001b[0;34m)\u001b[0m\u001b[0;34m\u001b[0m\u001b[0m\n\u001b[0m\u001b[1;32m    505\u001b[0m             \u001b[0;32mif\u001b[0m \u001b[0mresult\u001b[0m \u001b[0;32mis\u001b[0m \u001b[0;32mnot\u001b[0m \u001b[0;32mNone\u001b[0m\u001b[0;34m:\u001b[0m\u001b[0;34m\u001b[0m\u001b[0m\n",
      "\u001b[0;32m/home/peng/.conda/envs/py3/lib/python3.6/urllib/request.py\u001b[0m in \u001b[0;36mhttp_error_default\u001b[0;34m(self, req, fp, code, msg, hdrs)\u001b[0m\n\u001b[1;32m    649\u001b[0m     \u001b[0;32mdef\u001b[0m \u001b[0mhttp_error_default\u001b[0m\u001b[0;34m(\u001b[0m\u001b[0mself\u001b[0m\u001b[0;34m,\u001b[0m \u001b[0mreq\u001b[0m\u001b[0;34m,\u001b[0m \u001b[0mfp\u001b[0m\u001b[0;34m,\u001b[0m \u001b[0mcode\u001b[0m\u001b[0;34m,\u001b[0m \u001b[0mmsg\u001b[0m\u001b[0;34m,\u001b[0m \u001b[0mhdrs\u001b[0m\u001b[0;34m)\u001b[0m\u001b[0;34m:\u001b[0m\u001b[0;34m\u001b[0m\u001b[0m\n\u001b[0;32m--> 650\u001b[0;31m         \u001b[0;32mraise\u001b[0m \u001b[0mHTTPError\u001b[0m\u001b[0;34m(\u001b[0m\u001b[0mreq\u001b[0m\u001b[0;34m.\u001b[0m\u001b[0mfull_url\u001b[0m\u001b[0;34m,\u001b[0m \u001b[0mcode\u001b[0m\u001b[0;34m,\u001b[0m \u001b[0mmsg\u001b[0m\u001b[0;34m,\u001b[0m \u001b[0mhdrs\u001b[0m\u001b[0;34m,\u001b[0m \u001b[0mfp\u001b[0m\u001b[0;34m)\u001b[0m\u001b[0;34m\u001b[0m\u001b[0m\n\u001b[0m\u001b[1;32m    651\u001b[0m \u001b[0;34m\u001b[0m\u001b[0m\n",
      "\u001b[0;31mHTTPError\u001b[0m: HTTP Error 404: Not Found",
      "\nDuring handling of the above exception, another exception occurred:\n",
      "\u001b[0;31mTwitterHTTPError\u001b[0m                          Traceback (most recent call last)",
      "\u001b[0;32m<ipython-input-40-bc5cba3effe5>\u001b[0m in \u001b[0;36m<module>\u001b[0;34m()\u001b[0m\n\u001b[0;32m----> 1\u001b[0;31m \u001b[0mresult_2\u001b[0m\u001b[0;34m=\u001b[0m \u001b[0mtwin\u001b[0m\u001b[0;34m.\u001b[0m\u001b[0mstatuses\u001b[0m\u001b[0;34m.\u001b[0m\u001b[0mpublic\u001b[0m\u001b[0;34m(\u001b[0m\u001b[0mscreen_name\u001b[0m \u001b[0;34m=\u001b[0m\u001b[0;34m'realDonaldTrump'\u001b[0m\u001b[0;34m)\u001b[0m\u001b[0;34m\u001b[0m\u001b[0m\n\u001b[0m",
      "\u001b[0;32m/home/peng/.conda/envs/py3/lib/python3.6/site-packages/twitter/api.py\u001b[0m in \u001b[0;36m__call__\u001b[0;34m(self, **kwargs)\u001b[0m\n\u001b[1;32m    310\u001b[0m             \u001b[0;32mreturn\u001b[0m \u001b[0mself\u001b[0m\u001b[0;34m.\u001b[0m\u001b[0m_handle_response_with_retry\u001b[0m\u001b[0;34m(\u001b[0m\u001b[0mreq\u001b[0m\u001b[0;34m,\u001b[0m \u001b[0muri\u001b[0m\u001b[0;34m,\u001b[0m \u001b[0marg_data\u001b[0m\u001b[0;34m,\u001b[0m \u001b[0m_timeout\u001b[0m\u001b[0;34m)\u001b[0m\u001b[0;34m\u001b[0m\u001b[0m\n\u001b[1;32m    311\u001b[0m         \u001b[0;32melse\u001b[0m\u001b[0;34m:\u001b[0m\u001b[0;34m\u001b[0m\u001b[0m\n\u001b[0;32m--> 312\u001b[0;31m             \u001b[0;32mreturn\u001b[0m \u001b[0mself\u001b[0m\u001b[0;34m.\u001b[0m\u001b[0m_handle_response\u001b[0m\u001b[0;34m(\u001b[0m\u001b[0mreq\u001b[0m\u001b[0;34m,\u001b[0m \u001b[0muri\u001b[0m\u001b[0;34m,\u001b[0m \u001b[0marg_data\u001b[0m\u001b[0;34m,\u001b[0m \u001b[0m_timeout\u001b[0m\u001b[0;34m)\u001b[0m\u001b[0;34m\u001b[0m\u001b[0m\n\u001b[0m\u001b[1;32m    313\u001b[0m \u001b[0;34m\u001b[0m\u001b[0m\n\u001b[1;32m    314\u001b[0m     \u001b[0;32mdef\u001b[0m \u001b[0m_handle_response\u001b[0m\u001b[0;34m(\u001b[0m\u001b[0mself\u001b[0m\u001b[0;34m,\u001b[0m \u001b[0mreq\u001b[0m\u001b[0;34m,\u001b[0m \u001b[0muri\u001b[0m\u001b[0;34m,\u001b[0m \u001b[0marg_data\u001b[0m\u001b[0;34m,\u001b[0m \u001b[0m_timeout\u001b[0m\u001b[0;34m=\u001b[0m\u001b[0;32mNone\u001b[0m\u001b[0;34m)\u001b[0m\u001b[0;34m:\u001b[0m\u001b[0;34m\u001b[0m\u001b[0m\n",
      "\u001b[0;32m/home/peng/.conda/envs/py3/lib/python3.6/site-packages/twitter/api.py\u001b[0m in \u001b[0;36m_handle_response\u001b[0;34m(self, req, uri, arg_data, _timeout)\u001b[0m\n\u001b[1;32m    343\u001b[0m                 \u001b[0;32mreturn\u001b[0m \u001b[0;34m[\u001b[0m\u001b[0;34m]\u001b[0m\u001b[0;34m\u001b[0m\u001b[0m\n\u001b[1;32m    344\u001b[0m             \u001b[0;32melse\u001b[0m\u001b[0;34m:\u001b[0m\u001b[0;34m\u001b[0m\u001b[0m\n\u001b[0;32m--> 345\u001b[0;31m                 \u001b[0;32mraise\u001b[0m \u001b[0mTwitterHTTPError\u001b[0m\u001b[0;34m(\u001b[0m\u001b[0me\u001b[0m\u001b[0;34m,\u001b[0m \u001b[0muri\u001b[0m\u001b[0;34m,\u001b[0m \u001b[0mself\u001b[0m\u001b[0;34m.\u001b[0m\u001b[0mformat\u001b[0m\u001b[0;34m,\u001b[0m \u001b[0marg_data\u001b[0m\u001b[0;34m)\u001b[0m\u001b[0;34m\u001b[0m\u001b[0m\n\u001b[0m\u001b[1;32m    346\u001b[0m \u001b[0;34m\u001b[0m\u001b[0m\n\u001b[1;32m    347\u001b[0m     \u001b[0;32mdef\u001b[0m \u001b[0m_handle_response_with_retry\u001b[0m\u001b[0;34m(\u001b[0m\u001b[0mself\u001b[0m\u001b[0;34m,\u001b[0m \u001b[0mreq\u001b[0m\u001b[0;34m,\u001b[0m \u001b[0muri\u001b[0m\u001b[0;34m,\u001b[0m \u001b[0marg_data\u001b[0m\u001b[0;34m,\u001b[0m \u001b[0m_timeout\u001b[0m\u001b[0;34m=\u001b[0m\u001b[0;32mNone\u001b[0m\u001b[0;34m)\u001b[0m\u001b[0;34m:\u001b[0m\u001b[0;34m\u001b[0m\u001b[0m\n",
      "\u001b[0;31mTwitterHTTPError\u001b[0m: Twitter sent status 404 for URL: 1.1/statuses/public.json using parameters: (oauth_consumer_key=ZHLkKxpqoKtG7MGuFSPoSXxQe&oauth_nonce=2158472835436481917&oauth_signature_method=HMAC-SHA1&oauth_timestamp=1491201470&oauth_token=3857574792-pVwXx4B6ULUs02Vb8AIb9XywmPcNoW8DT8zdnJh&oauth_version=1.0&screen_name=realDonaldTrump&oauth_signature=mTFBJ0VeiUBV3xVSIXo1Jm19CgA%3D)\ndetails: {'errors': [{'message': 'Sorry, that page does not exist', 'code': 34}]}"
     ]
    }
   ],
   "source": [
    "result_2= twin.statuses.public(screen_name ='realDonaldTrump')"
   ]
  },
  {
   "cell_type": "code",
   "execution_count": 39,
   "metadata": {
    "collapsed": false
   },
   "outputs": [
    {
     "data": {
      "text/plain": [
       "'Melania and I are honored to light up the @WhiteHouse this evening, for \\n#WorldAutismAwarenessDay. Join us &amp; #LIUB.… https://t.co/tR3hqqyWvv'"
      ]
     },
     "execution_count": 39,
     "metadata": {},
     "output_type": "execute_result"
    }
   ],
   "source": [
    "result_2[0]['text']"
   ]
  },
  {
   "cell_type": "code",
   "execution_count": null,
   "metadata": {
    "collapsed": false
   },
   "outputs": [],
   "source": [
    "result_1 = twin.search.tweets(q=from:babyanimalpics, until='2017-03-03')['statuses']"
   ]
  },
  {
   "cell_type": "code",
   "execution_count": null,
   "metadata": {
    "collapsed": false
   },
   "outputs": [],
   "source": [
    "result_1[0]['created_at']"
   ]
  },
  {
   "cell_type": "code",
   "execution_count": null,
   "metadata": {
    "collapsed": false
   },
   "outputs": [],
   "source": [
    "for i in result_1:\n",
    "    twe = i['text']\n",
    "    print (twe)"
   ]
  },
  {
   "cell_type": "code",
   "execution_count": null,
   "metadata": {
    "collapsed": false
   },
   "outputs": [],
   "source": [
    "# Credentials to access Twitter API \n",
    "ACCESS_TOKEN    = '3857574792-pVwXx4B6ULUs02Vb8AIb9XywmPcNoW8DT8zdnJh'\n",
    "ACCESS_SECRET   = 'qmhl8bGdHqgTJpEX8Svtm10ehbYK9pxfSRbSxAEqO4RVt'\n",
    "CONSUMER_KEY    = 'ZHLkKxpqoKtG7MGuFSPoSXxQe'\n",
    "CONSUMER_SECRET = 'TUzKJsVc3XeLDQxxx1TjgQrZQxGpQOJW4bZIhIU86Vtg0XS0iM'\n",
    "Credentials = [ACCESS_TOKEN, ACCESS_SECRET, CONSUMER_KEY, CONSUMER_SECRET] \n",
    "\n",
    "# Create an instance of the TwitterAxe class\n",
    "axe = Twa.TwitterAxe(Credentials)\n",
    "\n",
    "minePeriod        = 60*1     # Mine Twitter for 5 minutes\n",
    "requestFrequency  = 30*1     # Request tweets every 30 seconds\n",
    "analyzeFrequency  = 30     # Analyze tweets every 1 minute\n",
    "requestAmount     = 20     # With each request pull 100 tweets (max = 100)\n",
    "similarityCutoff  = 90       # Filter out tweets with 90% similarity (default = 90)\n",
    "\n",
    "# Start mining\n",
    "axe.mine_live(\"Apple\", minePeriod, requestFrequency, analyzeFrequency, requestAmount, similarityCutoff)"
   ]
  }
 ],
 "metadata": {
  "kernelspec": {
   "display_name": "Python 3",
   "language": "python",
   "name": "python3"
  },
  "language_info": {
   "codemirror_mode": {
    "name": "ipython",
    "version": 3
   },
   "file_extension": ".py",
   "mimetype": "text/x-python",
   "name": "python",
   "nbconvert_exporter": "python",
   "pygments_lexer": "ipython3",
   "version": "3.6.0"
  }
 },
 "nbformat": 4,
 "nbformat_minor": 2
}
