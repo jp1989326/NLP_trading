{
 "cells": [
  {
   "cell_type": "code",
   "execution_count": 1,
   "metadata": {
    "collapsed": false
   },
   "outputs": [],
   "source": [
    "%matplotlib inline\n",
    "import TwitterAxe as Twa\n"
   ]
  },
  {
   "cell_type": "code",
   "execution_count": 2,
   "metadata": {
    "collapsed": true
   },
   "outputs": [],
   "source": [
    "ACCESS_TOKEN    = '3857574792-pVwXx4B6ULUs02Vb8AIb9XywmPcNoW8DT8zdnJh'\n",
    "ACCESS_SECRET   = 'qmhl8bGdHqgTJpEX8Svtm10ehbYK9pxfSRbSxAEqO4RVt'\n",
    "CONSUMER_KEY    = 'ZHLkKxpqoKtG7MGuFSPoSXxQe'\n",
    "CONSUMER_SECRET = 'TUzKJsVc3XeLDQxxx1TjgQrZQxGpQOJW4bZIhIU86Vtg0XS0iM'\n",
    "userCredentials = [ACCESS_TOKEN, ACCESS_SECRET, CONSUMER_KEY, CONSUMER_SECRET] "
   ]
  },
  {
   "cell_type": "code",
   "execution_count": 3,
   "metadata": {
    "collapsed": false
   },
   "outputs": [],
   "source": [
    "axe = Twa.TwitterAxe(userCredentials)\n",
    "\n",
    "minePeriod        = 60*1     # Mine Twitter for 5 minutes\n",
    "requestFrequency  = 30*1     # Request tweets every 30 seconds\n",
    "analyzeFrequency  = 30     # Analyze tweets every 1 minute\n",
    "requestAmount     = 20     # With each request pull 100 tweets (max = 100)\n",
    "similarityCutoff  = 90       # Filter out tweets with 90% similarity (default = 90)"
   ]
  },
  {
   "cell_type": "code",
   "execution_count": 4,
   "metadata": {
    "collapsed": false
   },
   "outputs": [
    {
     "name": "stdout",
     "output_type": "stream",
     "text": [
      "Mine complete till\n",
      "2017-03-04\n",
      "\n"
     ]
    }
   ],
   "source": [
    "axe.mine_past(\"ipad pro\", requestAmount, similarityCutoff, date='2017-03-04')"
   ]
  },
  {
   "cell_type": "code",
   "execution_count": 6,
   "metadata": {
    "collapsed": false
   },
   "outputs": [],
   "source": [
    "from twitter import Twitter, OAuth\n",
    "twin = Twitter(auth=OAuth(userCredentials[0], userCredentials[1], userCredentials[2], userCredentials[3]))\n",
    "\n"
   ]
  },
  {
   "cell_type": "code",
   "execution_count": 7,
   "metadata": {
    "collapsed": false
   },
   "outputs": [],
   "source": [
    "result_2= twin.statuses.user_timeline(screen_name ='realDonaldTrump')"
   ]
  },
  {
   "cell_type": "code",
   "execution_count": 8,
   "metadata": {
    "collapsed": false
   },
   "outputs": [
    {
     "data": {
      "text/plain": [
       "'#ICYMI: Weekly Address \\n➡️https://t.co/ckVx2zgA1x https://t.co/dTGZLvlsGv'"
      ]
     },
     "execution_count": 8,
     "metadata": {},
     "output_type": "execute_result"
    }
   ],
   "source": [
    "result_2[0]['text']"
   ]
  },
  {
   "cell_type": "code",
   "execution_count": 9,
   "metadata": {
    "collapsed": false
   },
   "outputs": [
    {
     "ename": "SyntaxError",
     "evalue": "invalid syntax (<ipython-input-9-fbb3bd3b9b6d>, line 1)",
     "output_type": "error",
     "traceback": [
      "\u001b[0;36m  File \u001b[0;32m\"<ipython-input-9-fbb3bd3b9b6d>\"\u001b[0;36m, line \u001b[0;32m1\u001b[0m\n\u001b[0;31m    result_1 = twin.search.tweets(q=from:babyanimalpics, until='2017-03-03')['statuses']\u001b[0m\n\u001b[0m                                       ^\u001b[0m\n\u001b[0;31mSyntaxError\u001b[0m\u001b[0;31m:\u001b[0m invalid syntax\n"
     ]
    }
   ],
   "source": [
    "result_1 = twin.search.tweets(q=from:babyanimalpics, until='2017-03-03')['statuses']"
   ]
  },
  {
   "cell_type": "code",
   "execution_count": 67,
   "metadata": {
    "collapsed": false
   },
   "outputs": [
    {
     "data": {
      "text/plain": [
       "'Thu Mar 02 23:59:25 +0000 2017'"
      ]
     },
     "execution_count": 67,
     "metadata": {},
     "output_type": "execute_result"
    }
   ],
   "source": [
    "result_1[0]['created_at']"
   ]
  },
  {
   "cell_type": "code",
   "execution_count": 64,
   "metadata": {
    "collapsed": false
   },
   "outputs": [
    {
     "name": "stdout",
     "output_type": "stream",
     "text": [
      "RT @_TheRealChocc: Nothing but Good vibes 🤙🏾 , growth 💪🏾, staying solid 🤤and remain humble🤐 all 2017❤️💯\n",
      "Amazes me MSM, FOX included has so many negative warnings 4 TRUMP administration, but NOTHING was ever said w BROTH… https://t.co/BPdMWFGHL7\n",
      "@poetic_kid @charlesrobinson @kyler11 they're nothing special but unless you are GB or NE, no team has a special backup QB\n",
      "RT @ACLU: Do you swear to tell the truth, the whole truth, and nothing but the truth? https://t.co/daiVndPuhk\n",
      "@traplordayyz how someone decides to present their own self, regardless of if its clothes or whatever, has nothing to do with you or respect\n",
      "RT @anxietyisme: literally nothing is worth arguing about anymore\n",
      "RT @LIFEwith_JNisha: can't nothing nobody tell me could make me stop fucking with him!!!\n",
      "RT @johncardillo: I am ashamed to be a Republican. AG Sessions is being thrown under the bus by \"allies\" on nothing but #fakenews and consp…\n",
      "@KTKMObsessed — smooth lines like it's nothing?!\n",
      "@FoxNews @ChuckLane1 NOTHING LIKE BLIND CONSERVATIVES!! LOL\n",
      "RT @Harry1T6: Dems jeered at Romney-R for suggesting Russia was a threat, &amp; did nothing as Putin took Chrimea.\n",
      "I hope they keep lecturing u…\n",
      "RT @nowthisnews: Ben Carson has officially been confirmed to head a government department he knows absolutely nothing about https://t.co/Vp…\n",
      "RT @LOLGOP: Paul Ryan spends every waking minute praying nothing gets in his way of his plan to uninsure poor people so rich people can get…\n",
      "RT @AkinOlokun: Everyone has already been to heaven, and everyone has already been to hell. Heaven and hell are nothing but states of mind.\n",
      "RT @Gladyzkhun: He is not called 2PM's Visual for nothing https://t.co/1UwGPGYnWm\n"
     ]
    }
   ],
   "source": [
    "for i in result_1:\n",
    "    twe = i['text']\n",
    "    print (twe)"
   ]
  },
  {
   "cell_type": "code",
   "execution_count": 2,
   "metadata": {
    "collapsed": false
   },
   "outputs": [
    {
     "name": "stdout",
     "output_type": "stream",
     "text": [
      "Mine complete from\n",
      "[2017/03/05 08:33:16 PM] - [2017/03/05 08:34:16 PM]\n",
      "\n"
     ]
    }
   ],
   "source": [
    "# Credentials to access Twitter API \n",
    "ACCESS_TOKEN    = '3857574792-pVwXx4B6ULUs02Vb8AIb9XywmPcNoW8DT8zdnJh'\n",
    "ACCESS_SECRET   = 'qmhl8bGdHqgTJpEX8Svtm10ehbYK9pxfSRbSxAEqO4RVt'\n",
    "CONSUMER_KEY    = 'ZHLkKxpqoKtG7MGuFSPoSXxQe'\n",
    "CONSUMER_SECRET = 'TUzKJsVc3XeLDQxxx1TjgQrZQxGpQOJW4bZIhIU86Vtg0XS0iM'\n",
    "Credentials = [ACCESS_TOKEN, ACCESS_SECRET, CONSUMER_KEY, CONSUMER_SECRET] \n",
    "\n",
    "# Create an instance of the TwitterAxe class\n",
    "axe = Twa.TwitterAxe(Credentials)\n",
    "\n",
    "minePeriod        = 60*1     # Mine Twitter for 5 minutes\n",
    "requestFrequency  = 30*1     # Request tweets every 30 seconds\n",
    "analyzeFrequency  = 30     # Analyze tweets every 1 minute\n",
    "requestAmount     = 20     # With each request pull 100 tweets (max = 100)\n",
    "similarityCutoff  = 90       # Filter out tweets with 90% similarity (default = 90)\n",
    "\n",
    "# Start mining\n",
    "axe.mine_live(\"Apple\", minePeriod, requestFrequency, analyzeFrequency, requestAmount, similarityCutoff)"
   ]
  },
  {
   "cell_type": "code",
   "execution_count": 5,
   "metadata": {
    "collapsed": false
   },
   "outputs": [
    {
     "name": "stdout",
     "output_type": "stream",
     "text": [
      "\u001b[1mInventory\u001b[0m\n",
      "Unique Tweets: 8\n",
      "Filtered Tweets: 1\n",
      "\u001b[1mUnique Tweets\u001b[0m\n",
      "                                                   0\n",
      "0  RT @iBeckTech: Got an email from @Apple about ...\n",
      "1  @cdbaby your web design team need a kick. IOS ...\n",
      "2  Articles Pro: English Education iPad App **** ...\n",
      "3  .@BareNoize \"Who needs a stylus?\" Years ago, A...\n",
      "4  RT @gearadvice: Ends Monday!\\n\\nWin an Incipio...\n",
      "5  Griffin Technology Survivor Journey Folio for ...\n",
      "6  iPad Pro — Take better notes — Apple https://t...\n",
      "7  Apple - 9.7-Inch iPad Pro with Wi-Fi + Cellula...\n",
      "\u001b[1mFiltered Tweets\u001b[0m\n",
      "                                                   0\n",
      "0  iPad Pro — Take better notes — Apple https://t...\n",
      "\u001b[1mTime Series\u001b[0m\n",
      "          time  sentiment  tweets\n",
      "0  08:48:29 PM      0.421       8\n"
     ]
    }
   ],
   "source": [
    "axe.showInventory()\n",
    "axe.showUniqueTweets()\n",
    "axe.showFilteredTweets()\n",
    "axe.showTimeSeries()"
   ]
  },
  {
   "cell_type": "code",
   "execution_count": 14,
   "metadata": {
    "collapsed": true
   },
   "outputs": [],
   "source": [
    "from time import localtime, strftime"
   ]
  },
  {
   "cell_type": "code",
   "execution_count": 13,
   "metadata": {
    "collapsed": false
   },
   "outputs": [
    {
     "data": {
      "text/plain": [
       "time.struct_time(tm_year=2017, tm_mon=3, tm_mday=2, tm_hour=14, tm_min=27, tm_sec=54, tm_wday=3, tm_yday=61, tm_isdst=1)"
      ]
     },
     "execution_count": 13,
     "metadata": {},
     "output_type": "execute_result"
    }
   ],
   "source": [
    "localtime()"
   ]
  },
  {
   "cell_type": "code",
   "execution_count": 15,
   "metadata": {
    "collapsed": false
   },
   "outputs": [
    {
     "data": {
      "text/plain": [
       "'[2017/03/02 02:28:25 PM]'"
      ]
     },
     "execution_count": 15,
     "metadata": {},
     "output_type": "execute_result"
    }
   ],
   "source": [
    "strftime(\"[%Y/%m/%d %I:%M:%S %p]\", localtime())"
   ]
  },
  {
   "cell_type": "code",
   "execution_count": 32,
   "metadata": {
    "collapsed": false
   },
   "outputs": [
    {
     "data": {
      "text/plain": [
       "'[2015/04/01 12:40:00 AM]'"
      ]
     },
     "execution_count": 32,
     "metadata": {},
     "output_type": "execute_result"
    }
   ],
   "source": [
    "strftime(\"[%Y/%m/%d %I:%M:%S %p]\", (2015,4,1,0,40,0,0,0,1))"
   ]
  },
  {
   "cell_type": "code",
   "execution_count": null,
   "metadata": {
    "collapsed": true
   },
   "outputs": [],
   "source": []
  }
 ],
 "metadata": {
  "kernelspec": {
   "display_name": "Python 3",
   "language": "python",
   "name": "python3"
  },
  "language_info": {
   "codemirror_mode": {
    "name": "ipython",
    "version": 3
   },
   "file_extension": ".py",
   "mimetype": "text/x-python",
   "name": "python",
   "nbconvert_exporter": "python",
   "pygments_lexer": "ipython3",
   "version": "3.6.0"
  }
 },
 "nbformat": 4,
 "nbformat_minor": 2
}
