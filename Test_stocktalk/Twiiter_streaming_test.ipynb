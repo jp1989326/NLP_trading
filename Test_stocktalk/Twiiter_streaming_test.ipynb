{
 "cells": [
  {
   "cell_type": "code",
   "execution_count": 11,
   "metadata": {
    "collapsed": false
   },
   "outputs": [],
   "source": [
    "%matplotlib inline\n",
    "import sys\n",
    "sys.path.append('../Load_data')\n",
    "sys.path.append('../Sentiment')\n",
    "import TwitterAxe as Twa\n",
    "import numpy as np\n",
    "import pandas as pd\n",
    "import datetime\n",
    "import tweepy\n",
    "from tweepy import OAuthHandler"
   ]
  },
  {
   "cell_type": "code",
   "execution_count": 12,
   "metadata": {
    "collapsed": true
   },
   "outputs": [],
   "source": [
    "oauth_token    = '3857574792-pVwXx4B6ULUs02Vb8AIb9XywmPcNoW8DT8zdnJh'\n",
    "oauth_token_secret   = 'qmhl8bGdHqgTJpEX8Svtm10ehbYK9pxfSRbSxAEqO4RVt'\n",
    "app_key    = 'ZHLkKxpqoKtG7MGuFSPoSXxQe'\n",
    "app_secret = 'TUzKJsVc3XeLDQxxx1TjgQrZQxGpQOJW4bZIhIU86Vtg0XS0iM'\n",
    "\n",
    "userCredentials = [app_key, app_secret, oauth_token, oauth_token_secret] \n",
    "\n",
    "minePeriod        = 40*1     # Mine Twitter for 60*n minutes\n",
    "requestFrequency  = 10*1     # Request tweets every n seconds\n",
    "analyzeFrequency  = 40     # Analyze tweets every n minute\n",
    "requestAmount     = 10     # With each request pull n tweets (max = 100)\n",
    "similarityCutoff  = 90       # Filter out tweets with 90% similarity (default = 90)"
   ]
  },
  {
   "cell_type": "code",
   "execution_count": 13,
   "metadata": {
    "collapsed": false
   },
   "outputs": [],
   "source": [
    "axe = Twa.TwitterLive(userCredentials)"
   ]
  },
  {
   "cell_type": "code",
   "execution_count": 9,
   "metadata": {
    "collapsed": false
   },
   "outputs": [],
   "source": [
    "axe.mine_live(\"china\", minePeriod, requestFrequency, analyzeFrequency, requestAmount, similarityCutoff)"
   ]
  },
  {
   "cell_type": "code",
   "execution_count": 10,
   "metadata": {
    "collapsed": false
   },
   "outputs": [
    {
     "name": "stdout",
     "output_type": "stream",
     "text": [
      "\u001b[1mInventory\u001b[0m\n",
      "Unique Tweets: 10\n",
      "Filtered Tweets: 10\n",
      "\u001b[1mUnique Tweets\u001b[0m\n",
      "                                                   0\n",
      "0  RT @ZeeNewsHindi: #DNA: China launches crackdo...\n",
      "1  RT @XHNews: Expansive pristine land and awe-in...\n",
      "2  #older naked wives china girls free videos htt...\n",
      "3  S. Korean company to China: Don't blame us for...\n",
      "4  RT @BBCNewsAsia: China wants 80% of citizens t...\n",
      "5  China keeps a close watch as Dalai Lama set to...\n",
      "6  #ExpressOpinion\\n\\nFew countries invited the k...\n",
      "7  RT @robpushor: Trudeau does love china's gov't...\n",
      "8  Check out 0.7\" China Nature  Hetian Nephrite J...\n",
      "9  RT @josie_puey: Why are you apologizing for th...\n",
      "\u001b[1mFiltered Tweets\u001b[0m\n",
      "                                                   0\n",
      "0  RT @ZeeNewsHindi: #DNA: China launches crackdo...\n",
      "1  RT @XHNews: Expansive pristine land and awe-in...\n",
      "2  #older naked wives china girls free videos htt...\n",
      "3  S. Korean company to China: Don't blame us for...\n",
      "4  RT @BBCNewsAsia: China wants 80% of citizens t...\n",
      "5  China keeps a close watch as Dalai Lama set to...\n",
      "6  #ExpressOpinion\\n\\nFew countries invited the k...\n",
      "7  RT @robpushor: Trudeau does love china's gov't...\n",
      "8  Check out 0.7\" China Nature  Hetian Nephrite J...\n",
      "9  RT @josie_puey: Why are you apologizing for th...\n",
      "\u001b[1mTime Series\u001b[0m\n",
      "          time  sentiment  tweets\n",
      "0  01:26:58 PM      0.291      10\n"
     ]
    }
   ],
   "source": [
    "axe.showInventory()\n",
    "axe.showUniqueTweets()\n",
    "axe.showFilteredTweets()\n",
    "axe.showTimeSeries()"
   ]
  },
  {
   "cell_type": "code",
   "execution_count": null,
   "metadata": {
    "collapsed": true
   },
   "outputs": [],
   "source": []
  }
 ],
 "metadata": {
  "kernelspec": {
   "display_name": "Python 3",
   "language": "python",
   "name": "python3"
  },
  "language_info": {
   "codemirror_mode": {
    "name": "ipython",
    "version": 3
   },
   "file_extension": ".py",
   "mimetype": "text/x-python",
   "name": "python",
   "nbconvert_exporter": "python",
   "pygments_lexer": "ipython3",
   "version": "3.6.0"
  }
 },
 "nbformat": 4,
 "nbformat_minor": 2
}
