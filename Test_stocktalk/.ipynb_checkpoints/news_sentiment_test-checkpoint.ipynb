{
 "cells": [
  {
   "cell_type": "code",
   "execution_count": 1,
   "metadata": {
    "collapsed": false
   },
   "outputs": [],
   "source": [
    "from __future__ import print_function\n",
    "\n",
    "import os\n",
    "import pickle\n",
    "import sys\n",
    "sys.path.append('../Load_data')\n",
    "sys.path.append('../Sentiment')\n",
    "import read_news\n",
    "import TwitterAxe as Twa\n",
    "import numpy as np\n",
    "import pandas as pd\n",
    "from NewsAxe import multistocks_score, index_score, buy_sell_signal\n",
    "from datetime import date\n",
    "from dateutil.rrule import rrule, DAILY\n",
    "import read_news"
   ]
  },
  {
   "cell_type": "code",
   "execution_count": 2,
   "metadata": {
    "collapsed": true
   },
   "outputs": [],
   "source": [
    "df = pd.read_csv('../Load_data/sentiscore_au.csv', header = 0)"
   ]
  },
  {
   "cell_type": "code",
   "execution_count": 4,
   "metadata": {
    "collapsed": false
   },
   "outputs": [
    {
     "data": {
      "text/html": [
       "<div>\n",
       "<table border=\"1\" class=\"dataframe\">\n",
       "  <thead>\n",
       "    <tr style=\"text-align: right;\">\n",
       "      <th></th>\n",
       "      <th>Unnamed: 0</th>\n",
       "      <th>sentiment</th>\n",
       "    </tr>\n",
       "  </thead>\n",
       "  <tbody>\n",
       "    <tr>\n",
       "      <th>count</th>\n",
       "      <td>3516.000000</td>\n",
       "      <td>3516.000000</td>\n",
       "    </tr>\n",
       "    <tr>\n",
       "      <th>mean</th>\n",
       "      <td>1757.500000</td>\n",
       "      <td>0.096686</td>\n",
       "    </tr>\n",
       "    <tr>\n",
       "      <th>std</th>\n",
       "      <td>1015.126101</td>\n",
       "      <td>0.238877</td>\n",
       "    </tr>\n",
       "    <tr>\n",
       "      <th>min</th>\n",
       "      <td>0.000000</td>\n",
       "      <td>-0.844000</td>\n",
       "    </tr>\n",
       "    <tr>\n",
       "      <th>25%</th>\n",
       "      <td>878.750000</td>\n",
       "      <td>0.000000</td>\n",
       "    </tr>\n",
       "    <tr>\n",
       "      <th>50%</th>\n",
       "      <td>1757.500000</td>\n",
       "      <td>0.103000</td>\n",
       "    </tr>\n",
       "    <tr>\n",
       "      <th>75%</th>\n",
       "      <td>2636.250000</td>\n",
       "      <td>0.254250</td>\n",
       "    </tr>\n",
       "    <tr>\n",
       "      <th>max</th>\n",
       "      <td>3515.000000</td>\n",
       "      <td>0.840000</td>\n",
       "    </tr>\n",
       "  </tbody>\n",
       "</table>\n",
       "</div>"
      ],
      "text/plain": [
       "        Unnamed: 0    sentiment\n",
       "count  3516.000000  3516.000000\n",
       "mean   1757.500000     0.096686\n",
       "std    1015.126101     0.238877\n",
       "min       0.000000    -0.844000\n",
       "25%     878.750000     0.000000\n",
       "50%    1757.500000     0.103000\n",
       "75%    2636.250000     0.254250\n",
       "max    3515.000000     0.840000"
      ]
     },
     "execution_count": 4,
     "metadata": {},
     "output_type": "execute_result"
    }
   ],
   "source": [
    "df.describe()"
   ]
  },
  {
   "cell_type": "code",
   "execution_count": 2,
   "metadata": {
    "collapsed": false
   },
   "outputs": [],
   "source": [
    "def signal_index(date, key_list):\n",
    "    # generate the singal for multiple stocks, using the functions in NewsAxe\n",
    "    scores = multistocks_score(date, key_list)\n",
    "    index_s = index_score(scores)\n",
    "    signal = buy_sell_signal(index_s)\n",
    "    return signal"
   ]
  },
  {
   "cell_type": "code",
   "execution_count": 3,
   "metadata": {
    "collapsed": true
   },
   "outputs": [],
   "source": [
    "def get_key_list(element_list):\n",
    "    # generate a list of lists \n",
    "    key_list = []\n",
    "    for element in element_list:\n",
    "        key_list_single = []\n",
    "        key_list_single.append((element))\n",
    "        key_list.append(key_list_single)\n",
    "    return key_list    "
   ]
  },
  {
   "cell_type": "code",
   "execution_count": 5,
   "metadata": {
    "collapsed": true
   },
   "outputs": [],
   "source": [
    "def check_amounts(date, key_list):\n",
    "    read = read_news.read_reuters(file_date = date)\n",
    "    key_string = read.locate_key(key_list)\n",
    "    return key_string\n",
    "    "
   ]
  },
  {
   "cell_type": "code",
   "execution_count": 86,
   "metadata": {
    "collapsed": true
   },
   "outputs": [],
   "source": [
    "def run_au():\n",
    "    start_day = date(2007, 1, 1)\n",
    "    end_day = date(2016, 8, 16)\n",
    "\n",
    "    element_list = ['australia']    \n",
    "    key_list = element_list\n",
    "\n",
    "    sentiment_list = []\n",
    "    date_list = []\n",
    "\n",
    "    for dt in rrule(DAILY, dtstart=start_day, until=end_day):\n",
    "        date_trading = dt.strftime(\"%Y%m%d\")\n",
    "        read = read_news.read_reuters(file_date = date_trading)\n",
    "        key_string = read.locate_key(key_list)\n",
    "        score = Twa.sentimentScore(key_string)\n",
    "        date_list.append(dt.strftime(\"%Y-%m-%d\"))\n",
    "        sentiment_list.append(score)       \n",
    "        \n",
    "    df_trade = pd.DataFrame({'date':date_list, 'sentiment':sentiment_list})    \n",
    "    \n",
    "    return df_trade"
   ]
  },
  {
   "cell_type": "code",
   "execution_count": 87,
   "metadata": {
    "collapsed": false
   },
   "outputs": [
    {
     "name": "stdout",
     "output_type": "stream",
     "text": [
      "There is no available news file on '2011'.\n",
      "There is no available news file on '2015'.\n"
     ]
    }
   ],
   "source": [
    "if __name__ == '__main__': \n",
    "    df_trade_check = run_au()\n",
    "    #df_trade_check = run_check_amounts()"
   ]
  },
  {
   "cell_type": "code",
   "execution_count": 67,
   "metadata": {
    "collapsed": true
   },
   "outputs": [],
   "source": [
    "def run_check_amounts():\n",
    "    start_day = date(2007, 1, 1)\n",
    "    end_day = date(2007, 5, 1)\n",
    "\n",
    "    df_sp = pd.read_csv('../Load_data/asx200_elements.csv', header = 0)\n",
    "    element_list = ['australia']\n",
    "    #element_list = np.array(df_sp['Company'])    \n",
    "    key_list = element_list\n",
    "\n",
    "    amount_list = []\n",
    "    date_list = []\n",
    "\n",
    "    for dt in rrule(DAILY, dtstart=start_day, until=end_day):\n",
    "        date_trading = dt.strftime(\"%Y%m%d\")\n",
    "        length_key = check_amounts(date_trading, element_list)\n",
    "        date_list.append(dt.strftime(\"%Y-%m-%d\"))\n",
    "        amount_list.append(length_key)       \n",
    "        \n",
    "    df_trade = pd.DataFrame({'date':date_list, 'amount':amount_list})    \n",
    "    \n",
    "    return df_trade"
   ]
  },
  {
   "cell_type": "code",
   "execution_count": 89,
   "metadata": {
    "collapsed": false
   },
   "outputs": [],
   "source": [
    "df_trade_check.to_csv('../Load_data/sentiscore_au.csv', header = True)"
   ]
  },
  {
   "cell_type": "code",
   "execution_count": 58,
   "metadata": {
    "collapsed": false
   },
   "outputs": [],
   "source": [
    "def run_sp500():\n",
    "    start_day = date(2007, 1, 1)\n",
    "    end_day = date(2007, 3, 1)\n",
    "\n",
    "    df_sp = pd.read_csv('../Load_data/top_sp500.csv', header = 0)\n",
    "    element_list = ['australia']    \n",
    "    key_list = get_key_list(element_list)\n",
    "\n",
    "    signal_list = []\n",
    "    date_list = []\n",
    "\n",
    "    for dt in rrule(DAILY, dtstart=start_day, until=end_day):\n",
    "        date_trading = dt.strftime(\"%Y%m%d\")\n",
    "        signal= signal_index(date_trading, key_list)\n",
    "        date_list.append(dt.strftime(\"%Y-%m-%d\"))\n",
    "        signal_list.append(signal)       \n",
    "        \n",
    "    df_trade = pd.DataFrame({'date':date_list, 'signal':signal_list})    \n",
    "    \n",
    "    return df_trade"
   ]
  },
  {
   "cell_type": "code",
   "execution_count": null,
   "metadata": {
    "collapsed": true
   },
   "outputs": [],
   "source": []
  }
 ],
 "metadata": {
  "kernelspec": {
   "display_name": "Python 3",
   "language": "python",
   "name": "python3"
  },
  "language_info": {
   "codemirror_mode": {
    "name": "ipython",
    "version": 3
   },
   "file_extension": ".py",
   "mimetype": "text/x-python",
   "name": "python",
   "nbconvert_exporter": "python",
   "pygments_lexer": "ipython3",
   "version": "3.6.0"
  }
 },
 "nbformat": 4,
 "nbformat_minor": 2
}
