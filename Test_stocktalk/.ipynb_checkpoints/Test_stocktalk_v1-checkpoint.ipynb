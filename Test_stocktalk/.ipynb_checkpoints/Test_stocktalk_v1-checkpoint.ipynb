{
 "cells": [
  {
   "cell_type": "code",
   "execution_count": 3,
   "metadata": {
    "collapsed": false,
    "scrolled": false
   },
   "outputs": [],
   "source": [
    "from stocktalk import TwitterAxe"
   ]
  },
  {
   "cell_type": "code",
   "execution_count": 7,
   "metadata": {
    "collapsed": false
   },
   "outputs": [
    {
     "name": "stdout",
     "output_type": "stream",
     "text": [
      "Mine complete from\n",
      "[2017/03/02 10:53:36 AM] - [2017/03/02 10:55:28 AM]\n",
      "\n"
     ]
    }
   ],
   "source": [
    "# Credentials to access Twitter API \n",
    "ACCESS_TOKEN    = '3857574792-pVwXx4B6ULUs02Vb8AIb9XywmPcNoW8DT8zdnJh'\n",
    "ACCESS_SECRET   = 'qmhl8bGdHqgTJpEX8Svtm10ehbYK9pxfSRbSxAEqO4RVt'\n",
    "CONSUMER_KEY    = 'ZHLkKxpqoKtG7MGuFSPoSXxQe'\n",
    "CONSUMER_SECRET = 'TUzKJsVc3XeLDQxxx1TjgQrZQxGpQOJW4bZIhIU86Vtg0XS0iM'\n",
    "Credentials = [ACCESS_TOKEN, ACCESS_SECRET, CONSUMER_KEY, CONSUMER_SECRET] \n",
    "\n",
    "# Create an instance of the TwitterAxe class\n",
    "axe = TwitterAxe(Credentials)\n",
    "\n",
    "minePeriod        = 20*5     # Mine Twitter for 5 minutes\n",
    "requestFrequency  = 30*1     # Request tweets every 30 seconds\n",
    "analyzeFrequency  = 60*1     # Analyze tweets every 1 minute\n",
    "requestAmount     = 100      # With each request pull 100 tweets (max = 100)\n",
    "similarityCutoff  = 90       # Filter out tweets with 90% similarity (default = 90)\n",
    "\n",
    "# Start mining\n",
    "axe.mine(\"Apple\", minePeriod, requestFrequency, analyzeFrequency, requestAmount, similarityCutoff)\n"
   ]
  },
  {
   "cell_type": "code",
   "execution_count": 8,
   "metadata": {
    "collapsed": false
   },
   "outputs": [
    {
     "name": "stdout",
     "output_type": "stream",
     "text": [
      "\u001b[1mInventory\u001b[0m\n",
      "Unique Tweets: 157\n",
      "Filtered Tweets: 27\n",
      "\n",
      "\u001b[1mUnique Tweets\u001b[0m\n",
      "                                                     0\n",
      "0    RT @ColIegeStudent: Theta Apple Pie 😂 https://...\n",
      "1    RT @girlposts: When the lecture started 7 minu...\n",
      "2    RT @JaredLeto: Watch - @DallasBuyers Club http...\n",
      "3                     @PoeticHeroin Apple much better?\n",
      "4    @TylerIAm shit add that onto my apple music su...\n",
      "5    My Mauve Stinger:) \\n#taptapfish\\nDownload: ht...\n",
      "6    RT @d_ezzz: @bitchiMAC_apple lmaooo this islan...\n",
      "7    @AppleSupport also....does Apple ID not suppor...\n",
      "8    A Big Surprise for Big Apple Fans\\nhttps://t.c...\n",
      "9    NGL, one of the reasons I love apple products ...\n",
      "10   RT @Independent: Apple is going to make everyo...\n",
      "11   Apple Watch Band, CNBEYOUNG? Milanese Loop Mag...\n",
      "12   RT @edokonrad: Just another bad apple: https:/...\n",
      "13   This tool is so cool,#Snapshunt for snapchat! ...\n",
      "14   My Fire Goby:) \\n#taptapfish\\nDownload: https:...\n",
      "15   If Oprah runs for President--what would that m...\n",
      "16   RT @CauseWereComedy: apple: here’s a phone tha...\n",
      "17   RT @_Apple_Hacker_: iPhone 7 32 GB (Black) Giv...\n",
      "18   Why Inclusive, LGBT-Friendly Sex Ed Is Necessa...\n",
      "19   Answer: nothing good.  https://t.co/Iz7QjDah11...\n",
      "20   The conversation I just had with Apple support...\n",
      "21   2 new unfollowers via #Tweepr https://t.co/jq4...\n",
      "22   @FingalNancy @Kathrineee @MiamiDolphins @hamle...\n",
      "23   Ex-Clinton volunteer slammed, loses job, after...\n",
      "24   Administration of apple procyanidins led to th...\n",
      "25   RT @TechCrunch: Facebook releases Facebook Vid...\n",
      "26   COMING SOON: The People v. Ryan Murphy podcast...\n",
      "27   1.2 #Earthquake in 6Km Ne Of Alamo, California...\n",
      "28   RT @Hippy: Adam: This apple is great, where di...\n",
      "29   I'm earning #mPOINTS with #GuessDaNumber ! htt...\n",
      "..                                                 ...\n",
      "127  This May Be the Oldest Known Sign of Life on E...\n",
      "128  I liked a @YouTube video from @mkbhd https://t...\n",
      "129  GOD DAMN I FUCKING HATE AUTOCORRECT BUILT INTO...\n",
      "130  RT @solohour: How to Fail...then Succeed: http...\n",
      "131  RT @FemaleTexts: When the lecture started 7 mi...\n",
      "132  RT @ColIegeStudent: Theta Apple Pie 😂 https://...\n",
      "133  Some new music we made for y'all 🙏 #Dance #EDM...\n",
      "134  RT @mixcom: Trump’s First 100 Days: His speech...\n",
      "135  RT @FreddyAmazin: apple: here’s a phone that 3...\n",
      "136  RT @EFYA_Nokturnal: https://t.co/jkjWVXGnce #S...\n",
      "137  RT @sinbadbad: Ex-Clinton volunteer slammed, l...\n",
      "138  My AbyssRium:) \\n#taptapfish\\nDownload: https:...\n",
      "139  RT @SxckMy_DEE: Crown Apple &amp; Henny .. Tha...\n",
      "140  #MacBook #Apple #MacbookPro New! Apple MacBook...\n",
      "141  My apple trees are budding already. Someone ne...\n",
      "142  My Black &amp; White Clownfish:) \\n#taptapfish...\n",
      "143  RT @JoeBudden: No Love Lost by Joe Budden http...\n",
      "144  RT @JAMHouse_26: Apple Music such a great inve...\n",
      "145  RT @_Apple_Hacker_: iPhone 7 32 GB (Black) Giv...\n",
      "146  @AppleMusic ovo sound has a hyperlink for thei...\n",
      "147  Strawbery, Crab and Avocado Salad - Eat Health...\n",
      "148  RT @RostronKyle: New Dwarf Primate Found, Is G...\n",
      "149  #Rock #nowplaying ♫ Rolling Stones - Satisfact...\n",
      "150  new pod ! breaking down #trumpaddress w/ @JoeL...\n",
      "151  My Blue Banded Goby:) \\n#taptapfish\\nDownload:...\n",
      "152  My Pink Juvenile Pinnate Spadefish:) \\n#taptap...\n",
      "153  @Apple it’s 2017, can we get a clear all notif...\n",
      "154  #NowPlaying Wishing by DJ Drama\\nListen here h...\n",
      "155  @snoop_of Get it FREE on the APP STORE!  Parti...\n",
      "156  Suscribite / seguinos en: \\nItunes https://t.c...\n",
      "\n",
      "[157 rows x 1 columns]\n",
      "\u001b[1mFiltered Tweets\u001b[0m\n",
      "                                                    0\n",
      "0   RT @girlposts: When the lecture started 7 minu...\n",
      "1   RT @ColIegeStudent: Theta Apple Pie 😂 https://...\n",
      "2   RT @JaredLeto: Watch - @DallasBuyers Club http...\n",
      "3   RT @girlposts: When the lecture started 7 minu...\n",
      "4   RT @JaredLeto: Watch - @DallasBuyers Club http...\n",
      "5   RT @ColIegeStudent: Theta Apple Pie 😂 https://...\n",
      "6   RT @JaredLeto: Watch - @DallasBuyers Club http...\n",
      "7   RT @Shockedmeme: Adam: This apple is great, wh...\n",
      "8   RT @JaredLeto: Watch - @DallasBuyers Club http...\n",
      "9   RT @FemaleTexts: When the lecture started 7 mi...\n",
      "10  RT @girlposts: When the lecture started 7 minu...\n",
      "11  RT @Dory: When the lecture started 7 minutes a...\n",
      "12               RT @thevict0rious: Theta Apple Pie 😂\n",
      "13  RT @geraldying: When the lecture started 7 min...\n",
      "14  \"Keep me as the apple of your eye; hide me in ...\n",
      "15  RT @FemaleTexts: When the lecture started 7 mi...\n",
      "16  RT @ColIegeStudent: Theta Apple Pie 😂 https://...\n",
      "17  https://t.co/ex9JJmHJTw #Deals #CellPhones #Sm...\n",
      "18  RT @ColIegeStudent: Theta Apple Pie 😂 https://...\n",
      "19  RT @dallassmith: Autograph (Pop version) - Sin...\n",
      "20  RT @ColIegeStudent: Theta Apple Pie 😂 https://...\n",
      "21  RT @JaredLeto: Watch - @DallasBuyers Club http...\n",
      "22  RT @_CollegeHumor_: Theta Apple Pie 😂 https://...\n",
      "23  I liked a @YouTube video from @mkbhd https://t...\n",
      "24  RT @girlposts: When the lecture started 7 minu...\n",
      "25  RT @girlposts: When the lecture started 7 minu...\n",
      "26  RT @ColIegeStudent: Theta Apple Pie 😂 https://...\n",
      "\n",
      "\u001b[1mTime Series\u001b[0m\n",
      "          time  sentiment  tweets\n",
      "0  10:54:39 AM      0.084      86\n",
      "\n"
     ]
    }
   ],
   "source": [
    "axe.showInventory()\n",
    "axe.showUniqueTweets()\n",
    "axe.showFilteredTweets()\n",
    "axe.showTimeSeries()"
   ]
  },
  {
   "cell_type": "code",
   "execution_count": 9,
   "metadata": {
    "collapsed": true
   },
   "outputs": [],
   "source": [
    "text = 'raerfzfa##%$#$'"
   ]
  },
  {
   "cell_type": "code",
   "execution_count": 12,
   "metadata": {
    "collapsed": false
   },
   "outputs": [
    {
     "data": {
      "text/plain": [
       "'raerfzfa@@%$@$'"
      ]
     },
     "execution_count": 12,
     "metadata": {},
     "output_type": "execute_result"
    }
   ],
   "source": [
    "text.replace('#', '@')"
   ]
  },
  {
   "cell_type": "code",
   "execution_count": 14,
   "metadata": {
    "collapsed": false
   },
   "outputs": [],
   "source": [
    "from re import sub\n",
    "text = sub(\"@[^\\s]+\", \"\", text)"
   ]
  },
  {
   "cell_type": "code",
   "execution_count": 15,
   "metadata": {
    "collapsed": false
   },
   "outputs": [
    {
     "data": {
      "text/plain": [
       "'raerfzfa##%$#$'"
      ]
     },
     "execution_count": 15,
     "metadata": {},
     "output_type": "execute_result"
    }
   ],
   "source": [
    "text"
   ]
  },
  {
   "cell_type": "code",
   "execution_count": null,
   "metadata": {
    "collapsed": true
   },
   "outputs": [],
   "source": []
  }
 ],
 "metadata": {
  "kernelspec": {
   "display_name": "Python 2",
   "language": "python",
   "name": "python2"
  },
  "language_info": {
   "codemirror_mode": {
    "name": "ipython",
    "version": 2
   },
   "file_extension": ".py",
   "mimetype": "text/x-python",
   "name": "python",
   "nbconvert_exporter": "python",
   "pygments_lexer": "ipython2",
   "version": "2.7.12"
  }
 },
 "nbformat": 4,
 "nbformat_minor": 2
}
